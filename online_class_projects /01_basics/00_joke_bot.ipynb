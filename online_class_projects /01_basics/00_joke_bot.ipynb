{
  "nbformat": 4,
  "nbformat_minor": 0,
  "metadata": {
    "colab": {
      "provenance": [],
      "authorship_tag": "ABX9TyOtcd8ii7GXsbOBdnMU+L/u",
      "include_colab_link": true
    },
    "kernelspec": {
      "name": "python3",
      "display_name": "Python 3"
    },
    "language_info": {
      "name": "python"
    }
  },
  "cells": [
    {
      "cell_type": "markdown",
      "metadata": {
        "id": "view-in-github",
        "colab_type": "text"
      },
      "source": [
        "<a href=\"https://colab.research.google.com/github/mraza24/ai_python_assignment_04/blob/main/online_class_projects%20/01_basics/00_joke_bot.ipynb\" target=\"_parent\"><img src=\"https://colab.research.google.com/assets/colab-badge.svg\" alt=\"Open In Colab\"/></a>"
      ]
    },
    {
      "cell_type": "code",
      "execution_count": null,
      "metadata": {
        "colab": {
          "base_uri": "https://localhost:8080/"
        },
        "id": "QZDOmqDua1cY",
        "outputId": "32b9b324-a205-4351-ff89-9aec739aafe5"
      },
      "outputs": [
        {
          "output_type": "stream",
          "name": "stdout",
          "text": [
            "What do you want? Joke\n",
            "Here is a joke for you! Panaversity GPT - Sophia is heading out to the grocery store. A programmer tells her: get a liter of milk, and if they have eggs, get 12. Sophia returns with 13 liters of milk. The programmer asks why and Sophia replies: 'because they had eggs'\n"
          ]
        }
      ],
      "source": [
        "# Step 1: Define the constants\n",
        "PROMPT: str = \"What do you want? \"\n",
        "JOKE: str = (\"Here is a joke for you! Panaversity GPT - Sophia is heading out to the grocery store. \"\n",
        "             \"A programmer tells her: get a liter of milk, and if they have eggs, get 12. \"\n",
        "             \"Sophia returns with 13 liters of milk. The programmer asks why and Sophia replies: \"\n",
        "             \"'because they had eggs'\")\n",
        "SORRY: str = \"Sorry I only tell jokes.\"\n",
        "\n",
        "# Step 2: Main function\n",
        "def main():\n",
        "    user_input = input(PROMPT)  # Step 3: Ask the user\n",
        "    if user_input == \"Joke\":    # Step 4: Check if it's \"Joke\"\n",
        "        print(JOKE)\n",
        "    else:                       # Step 5: Anything else\n",
        "        print(SORRY)\n",
        "\n",
        "if __name__ == '__main__':\n",
        "    main()\n"
      ]
    },
    {
      "cell_type": "code",
      "source": [],
      "metadata": {
        "id": "Ol7PKOAcbWu2"
      },
      "execution_count": null,
      "outputs": []
    }
  ]
}