{
  "nbformat": 4,
  "nbformat_minor": 0,
  "metadata": {
    "colab": {
      "provenance": [],
      "authorship_tag": "ABX9TyNEVcR7JUOpCBMve/t1DEuA",
      "include_colab_link": true
    },
    "kernelspec": {
      "name": "python3",
      "display_name": "Python 3"
    },
    "language_info": {
      "name": "python"
    }
  },
  "cells": [
    {
      "cell_type": "markdown",
      "metadata": {
        "id": "view-in-github",
        "colab_type": "text"
      },
      "source": [
        "<a href=\"https://colab.research.google.com/github/mraza24/ai_python_assignment_04/blob/main/online_class_projects%20/01_basics/01_double_it.ipynb\" target=\"_parent\"><img src=\"https://colab.research.google.com/assets/colab-badge.svg\" alt=\"Open In Colab\"/></a>"
      ]
    },
    {
      "cell_type": "code",
      "execution_count": null,
      "metadata": {
        "colab": {
          "base_uri": "https://localhost:8080/"
        },
        "id": "Q-0TOlwIcZsg",
        "outputId": "4298d605-e1b1-4665-f740-fae85b80b029"
      },
      "outputs": [
        {
          "output_type": "stream",
          "name": "stdout",
          "text": [
            "Enter a number: 4\n",
            "8\n",
            "16\n",
            "32\n",
            "64\n",
            "128\n"
          ]
        }
      ],
      "source": [
        "def main():\n",
        "    # Step 1: Get input from the user\n",
        "    curr_value = int(input(\"Enter a number: \"))\n",
        "\n",
        "    # Step 2: Loop until the value reaches or exceeds 100\n",
        "    while curr_value < 100:\n",
        "        curr_value = curr_value * 2  # Double the value\n",
        "        print(curr_value)            # Print the new value\n",
        "\n",
        "# Step 3: Call the main function\n",
        "if __name__ == '__main__':\n",
        "    main()\n"
      ]
    },
    {
      "cell_type": "code",
      "source": [],
      "metadata": {
        "id": "XyyFMYb-dc_C"
      },
      "execution_count": null,
      "outputs": []
    }
  ]
}