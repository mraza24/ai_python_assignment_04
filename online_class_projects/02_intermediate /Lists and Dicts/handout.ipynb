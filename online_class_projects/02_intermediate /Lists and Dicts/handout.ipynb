{
  "nbformat": 4,
  "nbformat_minor": 0,
  "metadata": {
    "colab": {
      "provenance": [],
      "authorship_tag": "ABX9TyOuSJr5++UXH4deGt1zsB2W",
      "include_colab_link": true
    },
    "kernelspec": {
      "name": "python3",
      "display_name": "Python 3"
    },
    "language_info": {
      "name": "python"
    }
  },
  "cells": [
    {
      "cell_type": "markdown",
      "metadata": {
        "id": "view-in-github",
        "colab_type": "text"
      },
      "source": [
        "<a href=\"https://colab.research.google.com/github/mraza24/ai_python_assignment_04/blob/main/online_class_projects/02_intermediate%20/Lists%20and%20Dicts/handout.ipynb\" target=\"_parent\"><img src=\"https://colab.research.google.com/assets/colab-badge.svg\" alt=\"Open In Colab\"/></a>"
      ]
    },
    {
      "cell_type": "code",
      "execution_count": null,
      "metadata": {
        "colab": {
          "base_uri": "https://localhost:8080/"
        },
        "id": "OXAzUKFwAmot",
        "outputId": "68dca1e6-92f3-483e-9d65-4a655e31a626"
      },
      "outputs": [
        {
          "output_type": "stream",
          "name": "stdout",
          "text": [
            "1. Run List Practice\n",
            "2. Run Index Game\n",
            "Enter 1 or 2: 2\n",
            "\n",
            "Current List: ['apple', 'banana', 'cherry', 'grape', 'orange']\n",
            "Choose an operation:\n",
            "1. Access an element\n",
            "2. Modify an element\n",
            "3. Slice the list\n",
            "4. Exit\n",
            "Enter your choice (1-4): 3\n",
            "Enter start index: 1\n",
            "Enter end index: 4\n",
            "Sliced List: ['banana', 'cherry', 'grape']\n",
            "\n",
            "Current List: ['apple', 'banana', 'cherry', 'grape', 'orange']\n",
            "Choose an operation:\n",
            "1. Access an element\n",
            "2. Modify an element\n",
            "3. Slice the list\n",
            "4. Exit\n",
            "Enter your choice (1-4): 1\n",
            "Enter index to access: 2\n",
            "Element: cherry\n",
            "\n",
            "Current List: ['apple', 'banana', 'cherry', 'grape', 'orange']\n",
            "Choose an operation:\n",
            "1. Access an element\n",
            "2. Modify an element\n",
            "3. Slice the list\n",
            "4. Exit\n",
            "Enter your choice (1-4): 2\n",
            "Enter index to modify: 1\n",
            "Enter new value: 3\n",
            "Updated List: ['apple', '3', 'cherry', 'grape', 'orange']\n",
            "\n",
            "Current List: ['apple', '3', 'cherry', 'grape', 'orange']\n",
            "Choose an operation:\n",
            "1. Access an element\n",
            "2. Modify an element\n",
            "3. Slice the list\n",
            "4. Exit\n",
            "Enter your choice (1-4): 4\n",
            "Exiting the game.\n"
          ]
        }
      ],
      "source": [
        "# Problem #1: List Practice\n",
        "def main():\n",
        "    fruit_list = ['apple', 'banana', 'orange', 'grape', 'pineapple']\n",
        "    print(\"Length of fruit_list:\", len(fruit_list))\n",
        "    fruit_list.append('mango')\n",
        "    print(\"Updated fruit_list:\", fruit_list)\n",
        "\n",
        "# Problem #2: Index Game\n",
        "def access_element(my_list, index):\n",
        "    if index < 0 or index >= len(my_list):\n",
        "        return \"Index out of range\"\n",
        "    return my_list[index]\n",
        "\n",
        "def modify_element(my_list, index, new_value):\n",
        "    if index < 0 or index >= len(my_list):\n",
        "        return \"Index out of range\"\n",
        "    my_list[index] = new_value\n",
        "    return my_list\n",
        "\n",
        "def slice_list(my_list, start_index, end_index):\n",
        "    if start_index < 0 or end_index > len(my_list) or start_index > end_index:\n",
        "        return \"Invalid indices\"\n",
        "    return my_list[start_index:end_index]\n",
        "\n",
        "def game():\n",
        "    my_list = ['apple', 'banana', 'cherry', 'grape', 'orange']\n",
        "    while True:\n",
        "        print(\"\\nCurrent List:\", my_list)\n",
        "        print(\"Choose an operation:\")\n",
        "        print(\"1. Access an element\")\n",
        "        print(\"2. Modify an element\")\n",
        "        print(\"3. Slice the list\")\n",
        "        print(\"4. Exit\")\n",
        "\n",
        "        choice = input(\"Enter your choice (1-4): \")\n",
        "\n",
        "        if choice == '1':\n",
        "            index = int(input(\"Enter index to access: \"))\n",
        "            print(\"Element:\", access_element(my_list, index))\n",
        "        elif choice == '2':\n",
        "            index = int(input(\"Enter index to modify: \"))\n",
        "            new_value = input(\"Enter new value: \")\n",
        "            print(\"Updated List:\", modify_element(my_list, index, new_value))\n",
        "        elif choice == '3':\n",
        "            start_index = int(input(\"Enter start index: \"))\n",
        "            end_index = int(input(\"Enter end index: \"))\n",
        "            print(\"Sliced List:\", slice_list(my_list, start_index, end_index))\n",
        "        elif choice == '4':\n",
        "            print(\"Exiting the game.\")\n",
        "            break\n",
        "        else:\n",
        "            print(\"Invalid choice. Please try again.\")\n",
        "\n",
        "# Choose which program to run\n",
        "if __name__ == \"__main__\":\n",
        "    print(\"1. Run List Practice\")\n",
        "    print(\"2. Run Index Game\")\n",
        "    program = input(\"Enter 1 or 2: \")\n",
        "    if program == '1':\n",
        "        main()\n",
        "    else:\n",
        "        game()\n"
      ]
    },
    {
      "cell_type": "code",
      "source": [],
      "metadata": {
        "id": "OBV0DE5iDWgx"
      },
      "execution_count": null,
      "outputs": []
    }
  ]
}