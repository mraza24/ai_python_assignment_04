{
  "nbformat": 4,
  "nbformat_minor": 0,
  "metadata": {
    "colab": {
      "provenance": [],
      "authorship_tag": "ABX9TyOKhnAgqseoiCrd2wZYHa5N",
      "include_colab_link": true
    },
    "kernelspec": {
      "name": "python3",
      "display_name": "Python 3"
    },
    "language_info": {
      "name": "python"
    }
  },
  "cells": [
    {
      "cell_type": "markdown",
      "metadata": {
        "id": "view-in-github",
        "colab_type": "text"
      },
      "source": [
        "<a href=\"https://colab.research.google.com/github/mraza24/ai_python_assignment_04/blob/main/online_class_projects/02_intermediate%20/Lists%20and%20Dicts/solution.ipynb\" target=\"_parent\"><img src=\"https://colab.research.google.com/assets/colab-badge.svg\" alt=\"Open In Colab\"/></a>"
      ]
    },
    {
      "cell_type": "code",
      "execution_count": null,
      "metadata": {
        "colab": {
          "base_uri": "https://localhost:8080/"
        },
        "id": "1USscgP_FNpF",
        "outputId": "1b417309-7072-49dc-da12-460ff96a1a43"
      },
      "outputs": [
        {
          "output_type": "stream",
          "name": "stdout",
          "text": [
            "1. Run List Practice\n",
            "2. Run Index Game\n",
            "Enter 1 or 2: 1\n",
            "Length of fruit_list: 5\n",
            "Updated fruit_list: ['apple', 'banana', 'orange', 'grape', 'pineapple', 'mango']\n"
          ]
        }
      ],
      "source": [
        "# ----------- List Practice Function -----------\n",
        "def list_practice():\n",
        "    # Step 1: Create a list of fruits\n",
        "    fruit_list = ['apple', 'banana', 'orange', 'grape', 'pineapple']\n",
        "\n",
        "    # Step 2: Print the length of the list\n",
        "    print(\"Length of fruit_list:\", len(fruit_list))\n",
        "\n",
        "    # Step 3: Add 'mango' to the end of the list\n",
        "    fruit_list.append('mango')\n",
        "\n",
        "    # Step 4: Print the updated list\n",
        "    print(\"Updated fruit_list:\", fruit_list)\n",
        "\n",
        "# ----------- Index Game Helper Functions -----------\n",
        "\n",
        "def access_element(lst, index):\n",
        "    try:\n",
        "        return lst[index]\n",
        "    except IndexError:\n",
        "        return \"Index out of range.\"\n",
        "\n",
        "def modify_element(lst, index, new_value):\n",
        "    try:\n",
        "        lst[index] = new_value\n",
        "        return lst\n",
        "    except IndexError:\n",
        "        return \"Index out of range.\"\n",
        "\n",
        "def slice_list(lst, start, end):\n",
        "    return lst[start:end]  # Safe slicing even if indices are off\n",
        "\n",
        "# ----------- Index Game Function -----------\n",
        "def index_game():\n",
        "    lst = [1, 2, 3, 4, 5]\n",
        "    print(\"Current list:\", lst)\n",
        "    print(\"Choose an operation: access, modify, slice\")\n",
        "    operation = input(\"Enter operation: \")\n",
        "\n",
        "    if operation == \"access\":\n",
        "        index = int(input(\"Enter index to access: \"))\n",
        "        print(\"Result:\", access_element(lst, index))\n",
        "\n",
        "    elif operation == \"modify\":\n",
        "        index = int(input(\"Enter index to modify: \"))\n",
        "        new_value = input(\"Enter new value: \")\n",
        "        print(\"Updated list:\", modify_element(lst, index, new_value))\n",
        "\n",
        "    elif operation == \"slice\":\n",
        "        start = int(input(\"Enter start index: \"))\n",
        "        end = int(input(\"Enter end index: \"))\n",
        "        print(\"Sliced list:\", slice_list(lst, start, end))\n",
        "\n",
        "    else:\n",
        "        print(\"Invalid operation.\")\n",
        "\n",
        "# ----------- Main Menu -----------\n",
        "def main():\n",
        "    print(\"1. Run List Practice\")\n",
        "    print(\"2. Run Index Game\")\n",
        "    choice = input(\"Enter 1 or 2: \")\n",
        "\n",
        "    if choice == \"1\":\n",
        "        list_practice()\n",
        "    elif choice == \"2\":\n",
        "        index_game()\n",
        "    else:\n",
        "        print(\"Invalid choice.\")\n",
        "\n",
        "if __name__ == \"__main__\":\n",
        "    main()\n"
      ]
    },
    {
      "cell_type": "code",
      "source": [
        "\n"
      ],
      "metadata": {
        "id": "QRPWLA_HF2UF"
      },
      "execution_count": null,
      "outputs": []
    }
  ]
}