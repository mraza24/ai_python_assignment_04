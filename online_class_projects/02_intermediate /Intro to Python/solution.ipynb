{
  "nbformat": 4,
  "nbformat_minor": 0,
  "metadata": {
    "colab": {
      "provenance": [],
      "authorship_tag": "ABX9TyMyFo4SkedfdbQ2hup1Xteb",
      "include_colab_link": true
    },
    "kernelspec": {
      "name": "python3",
      "display_name": "Python 3"
    },
    "language_info": {
      "name": "python"
    }
  },
  "cells": [
    {
      "cell_type": "markdown",
      "metadata": {
        "id": "view-in-github",
        "colab_type": "text"
      },
      "source": [
        "<a href=\"https://colab.research.google.com/github/mraza24/ai_python_assignment_04/blob/main/online_class_projects/02_intermediate%20/Intro%20to%20Python/solution.ipynb\" target=\"_parent\"><img src=\"https://colab.research.google.com/assets/colab-badge.svg\" alt=\"Open In Colab\"/></a>"
      ]
    },
    {
      "cell_type": "code",
      "execution_count": null,
      "metadata": {
        "colab": {
          "base_uri": "https://localhost:8080/"
        },
        "id": "OjCZ60fM8OrS",
        "outputId": "9b169058-7096-44d2-baa9-668cd6fe3f6e"
      },
      "outputs": [
        {
          "output_type": "stream",
          "name": "stdout",
          "text": [
            "Enter a weight on Earth: 70\n",
            "Enter a planet: Mars\n",
            "The equivalent weight on Mars: 26.46\n"
          ]
        }
      ],
      "source": [
        "# Define constants for each planet's gravity\n",
        "MERCURY_GRAVITY = 0.376\n",
        "VENUS_GRAVITY = 0.889\n",
        "MARS_GRAVITY = 0.378\n",
        "JUPITER_GRAVITY = 2.36\n",
        "SATURN_GRAVITY = 1.081\n",
        "URANUS_GRAVITY = 0.815\n",
        "NEPTUNE_GRAVITY = 1.14\n",
        "\n",
        "def main():\n",
        "    # Step 1: Ask for Earth weight\n",
        "    earth_weight = float(input(\"Enter a weight on Earth: \"))\n",
        "\n",
        "    # Step 2: Ask for planet\n",
        "    planet = input(\"Enter a planet: \").title()  # title() allows \"saturn\" or \"SATURN\" to be accepted\n",
        "\n",
        "    # Step 3: Match planet to gravity\n",
        "    if planet == \"Mercury\":\n",
        "        gravity = MERCURY_GRAVITY\n",
        "    elif planet == \"Venus\":\n",
        "        gravity = VENUS_GRAVITY\n",
        "    elif planet == \"Mars\":\n",
        "        gravity = MARS_GRAVITY\n",
        "    elif planet == \"Jupiter\":\n",
        "        gravity = JUPITER_GRAVITY\n",
        "    elif planet == \"Saturn\":\n",
        "        gravity = SATURN_GRAVITY\n",
        "    elif planet == \"Uranus\":\n",
        "        gravity = URANUS_GRAVITY\n",
        "    elif planet == \"Neptune\":\n",
        "        gravity = NEPTUNE_GRAVITY\n",
        "    else:\n",
        "        print(\"Invalid planet name entered.\")\n",
        "        return\n",
        "\n",
        "    # Step 4: Calculate and round\n",
        "    planet_weight = round(earth_weight * gravity, 2)\n",
        "\n",
        "    # Step 5: Print result\n",
        "    print(\"The equivalent weight on \" + planet + \": \" + str(planet_weight))\n",
        "\n",
        "# Run the program\n",
        "if __name__ == \"__main__\":\n",
        "    main()\n"
      ]
    },
    {
      "cell_type": "code",
      "source": [],
      "metadata": {
        "id": "qoUDWxOT8WHj"
      },
      "execution_count": null,
      "outputs": []
    }
  ]
}