{
  "nbformat": 4,
  "nbformat_minor": 0,
  "metadata": {
    "colab": {
      "provenance": [],
      "authorship_tag": "ABX9TyMhbkaZoLeoRScZinY4dOTh",
      "include_colab_link": true
    },
    "kernelspec": {
      "name": "python3",
      "display_name": "Python 3"
    },
    "language_info": {
      "name": "python"
    }
  },
  "cells": [
    {
      "cell_type": "markdown",
      "metadata": {
        "id": "view-in-github",
        "colab_type": "text"
      },
      "source": [
        "<a href=\"https://colab.research.google.com/github/mraza24/ai_python_assignment_04/blob/main/online_class_projects/02_intermediate%20/Intro%20to%20Python/starter_code.ipynb\" target=\"_parent\"><img src=\"https://colab.research.google.com/assets/colab-badge.svg\" alt=\"Open In Colab\"/></a>"
      ]
    },
    {
      "cell_type": "code",
      "execution_count": null,
      "metadata": {
        "colab": {
          "base_uri": "https://localhost:8080/"
        },
        "id": "Sd-ukxRA9L5Q",
        "outputId": "45d62ed7-5f1d-4121-90f0-4298106b52f4"
      },
      "outputs": [
        {
          "output_type": "stream",
          "name": "stdout",
          "text": [
            "Enter a weight on Earth: 60\n",
            "Enter a planet: Uranus\n",
            "The equivalent weight on Uranus: 48.9\n"
          ]
        }
      ],
      "source": [
        "# Planet gravity multipliers relative to Earth\n",
        "MERCURY = 0.376\n",
        "VENUS = 0.889\n",
        "MARS = 0.378\n",
        "JUPITER = 2.36\n",
        "SATURN = 1.081\n",
        "URANUS = 0.815\n",
        "NEPTUNE = 1.14\n",
        "\n",
        "def main():\n",
        "    # Step 1: Get user's Earth weight\n",
        "    earth_weight = float(input(\"Enter a weight on Earth: \"))\n",
        "\n",
        "    # Step 2: Get the planet name\n",
        "    planet = input(\"Enter a planet: \")\n",
        "\n",
        "    # Step 3: Determine gravity multiplier\n",
        "    if planet == \"Mercury\":\n",
        "        gravity = MERCURY\n",
        "    elif planet == \"Venus\":\n",
        "        gravity = VENUS\n",
        "    elif planet == \"Mars\":\n",
        "        gravity = MARS\n",
        "    elif planet == \"Jupiter\":\n",
        "        gravity = JUPITER\n",
        "    elif planet == \"Saturn\":\n",
        "        gravity = SATURN\n",
        "    elif planet == \"Uranus\":\n",
        "        gravity = URANUS\n",
        "    elif planet == \"Neptune\":\n",
        "        gravity = NEPTUNE\n",
        "    else:\n",
        "        print(\"Invalid planet name entered.\")\n",
        "        return  # Exit early\n",
        "\n",
        "    # Step 4: Calculate planetary weight\n",
        "    planetary_weight = earth_weight * gravity\n",
        "    rounded_weight = round(planetary_weight, 2)\n",
        "\n",
        "    # Step 5: Print the result\n",
        "    print(\"The equivalent weight on \" + planet + \": \" + str(rounded_weight))\n",
        "\n",
        "# Run the program\n",
        "if __name__ == \"__main__\":\n",
        "    main()\n"
      ]
    },
    {
      "cell_type": "code",
      "source": [],
      "metadata": {
        "id": "2nkIt3Up9nA3"
      },
      "execution_count": null,
      "outputs": []
    }
  ]
}