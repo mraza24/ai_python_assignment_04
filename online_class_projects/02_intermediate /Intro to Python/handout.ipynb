{
  "nbformat": 4,
  "nbformat_minor": 0,
  "metadata": {
    "colab": {
      "provenance": [],
      "authorship_tag": "ABX9TyMYNIV7Yk70zpyKF2TdyP/y",
      "include_colab_link": true
    },
    "kernelspec": {
      "name": "python3",
      "display_name": "Python 3"
    },
    "language_info": {
      "name": "python"
    }
  },
  "cells": [
    {
      "cell_type": "markdown",
      "metadata": {
        "id": "view-in-github",
        "colab_type": "text"
      },
      "source": [
        "<a href=\"https://colab.research.google.com/github/mraza24/ai_python_assignment_04/blob/main/online_class_projects/02_intermediate%20/Intro%20to%20Python/handout.ipynb\" target=\"_parent\"><img src=\"https://colab.research.google.com/assets/colab-badge.svg\" alt=\"Open In Colab\"/></a>"
      ]
    },
    {
      "cell_type": "code",
      "execution_count": null,
      "metadata": {
        "colab": {
          "base_uri": "https://localhost:8080/"
        },
        "id": "YQoLTHzR2x8C",
        "outputId": "0eae4b7c-bc02-47df-a985-58f2477f7c32"
      },
      "outputs": [
        {
          "output_type": "stream",
          "name": "stdout",
          "text": [
            "Enter a weight on Earth: 150\n",
            "Enter a planet: Saturn\n",
            "The equivalent weight on Saturn: 162.15\n"
          ]
        }
      ],
      "source": [
        "# Planetary Weight Calculator\n",
        "\n",
        "# Step 1: Ask the user for their weight on Earth\n",
        "earth_weight = float(input(\"Enter a weight on Earth: \"))\n",
        "\n",
        "# Step 2: Ask the user for the name of a planet\n",
        "planet = input(\"Enter a planet: \")\n",
        "\n",
        "# Step 3: Define gravity conversion factors for each planet\n",
        "# These are expressed as a ratio compared to Earth's gravity\n",
        "if planet == \"Mercury\":\n",
        "    factor = 0.376\n",
        "elif planet == \"Venus\":\n",
        "    factor = 0.889\n",
        "elif planet == \"Mars\":\n",
        "    factor = 0.378\n",
        "elif planet == \"Jupiter\":\n",
        "    factor = 2.36\n",
        "elif planet == \"Saturn\":\n",
        "    factor = 1.081\n",
        "elif planet == \"Uranus\":\n",
        "    factor = 0.815\n",
        "elif planet == \"Neptune\":\n",
        "    factor = 1.14\n",
        "else:\n",
        "    # This handles invalid input (not required per prompt, but useful)\n",
        "    factor = None\n",
        "\n",
        "# Step 4: Calculate and display the result if valid planet\n",
        "if factor is not None:\n",
        "    planet_weight = round(earth_weight * factor, 2)\n",
        "    print(f\"The equivalent weight on {planet}: {planet_weight}\")\n",
        "else:\n",
        "    print(\"Invalid planet name entered.\")\n"
      ]
    },
    {
      "cell_type": "code",
      "source": [],
      "metadata": {
        "id": "K4hCR4Ir5Wt7"
      },
      "execution_count": null,
      "outputs": []
    }
  ]
}