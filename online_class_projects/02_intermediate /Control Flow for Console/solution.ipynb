{
  "nbformat": 4,
  "nbformat_minor": 0,
  "metadata": {
    "colab": {
      "provenance": [],
      "authorship_tag": "ABX9TyO1v9CnOHY0kyOJzmO5ydDL",
      "include_colab_link": true
    },
    "kernelspec": {
      "name": "python3",
      "display_name": "Python 3"
    },
    "language_info": {
      "name": "python"
    }
  },
  "cells": [
    {
      "cell_type": "markdown",
      "metadata": {
        "id": "view-in-github",
        "colab_type": "text"
      },
      "source": [
        "<a href=\"https://colab.research.google.com/github/mraza24/ai_python_assignment_04/blob/main/online_class_projects/02_intermediate%20/Control%20Flow%20for%20Console/solution.ipynb\" target=\"_parent\"><img src=\"https://colab.research.google.com/assets/colab-badge.svg\" alt=\"Open In Colab\"/></a>"
      ]
    },
    {
      "cell_type": "code",
      "execution_count": null,
      "metadata": {
        "colab": {
          "base_uri": "https://localhost:8080/"
        },
        "id": "k4XbrTwFoRgu",
        "outputId": "2a8ebf78-058a-493d-eefb-b1efcba14e0d"
      },
      "outputs": [
        {
          "output_type": "stream",
          "name": "stdout",
          "text": [
            "Welcome to the High-Low Game!\n",
            "--------------------------------\n",
            "Round 1\n",
            "Your number is 33\n",
            "Do you think your number is higher or lower than the computer's?: lower\n",
            "Aww, that's incorrect. The computer's number was 9\n",
            "Your score is now 0\n",
            "\n",
            "Round 2\n",
            "Your number is 29\n",
            "Do you think your number is higher or lower than the computer's?: lower\n",
            "Aww, that's incorrect. The computer's number was 6\n",
            "Your score is now 0\n",
            "\n",
            "Round 3\n",
            "Your number is 82\n",
            "Do you think your number is higher or lower than the computer's?: higher\n",
            "You were right! The computer's number was 31\n",
            "Your score is now 1\n",
            "\n",
            "Round 4\n",
            "Your number is 47\n",
            "Do you think your number is higher or lower than the computer's?: higher\n",
            "You were right! The computer's number was 22\n",
            "Your score is now 2\n",
            "\n",
            "Round 5\n",
            "Your number is 48\n",
            "Do you think your number is higher or lower than the computer's?: higher\n",
            "Aww, that's incorrect. The computer's number was 62\n",
            "Your score is now 2\n",
            "\n",
            "Your final score is 2\n",
            "Better luck next time!\n"
          ]
        }
      ],
      "source": [
        "import random\n",
        "\n",
        "NUM_ROUNDS = 5  # Total number of rounds in the game\n",
        "\n",
        "def main():\n",
        "    print(\"Welcome to the High-Low Game!\")\n",
        "    print('--------------------------------')\n",
        "\n",
        "    your_score = 0  # Tracks your correct guesses\n",
        "\n",
        "    for i in range(NUM_ROUNDS):\n",
        "        print(\"Round\", i + 1)\n",
        "\n",
        "        # Generate random numbers for you and the computer\n",
        "        computer_num = random.randint(1, 100)\n",
        "        your_num = random.randint(1, 100)\n",
        "        print(\"Your number is\", your_num)\n",
        "\n",
        "        # Get user's guess\n",
        "        choice = input(\"Do you think your number is higher or lower than the computer's?: \").strip().lower()\n",
        "\n",
        "        # Validate input\n",
        "        while choice != \"higher\" and choice != \"lower\":\n",
        "            choice = input(\"Please enter either 'higher' or 'lower': \").strip().lower()\n",
        "\n",
        "        # Check if the guess is correct\n",
        "        higher_and_correct = choice == \"higher\" and your_num > computer_num\n",
        "        lower_and_correct = choice == \"lower\" and your_num < computer_num\n",
        "\n",
        "        if higher_and_correct or lower_and_correct:\n",
        "            print(\"You were right! The computer's number was\", computer_num)\n",
        "            your_score += 1\n",
        "        else:\n",
        "            print(\"Aww, that's incorrect. The computer's number was\", computer_num)\n",
        "\n",
        "        print(\"Your score is now\", your_score)\n",
        "        print()\n",
        "\n",
        "    # Final message based on performance\n",
        "    print(\"Your final score is\", your_score)\n",
        "    if your_score == NUM_ROUNDS:\n",
        "        print(\"Wow! You played perfectly!\")\n",
        "    elif your_score > NUM_ROUNDS // 2:\n",
        "        print(\"Good job, you played really well!\")\n",
        "    else:\n",
        "        print(\"Better luck next time!\")\n",
        "\n",
        "if __name__ == \"__main__\":\n",
        "    main()\n"
      ]
    },
    {
      "cell_type": "code",
      "source": [],
      "metadata": {
        "id": "MQr8KPsEoixq"
      },
      "execution_count": null,
      "outputs": []
    }
  ]
}