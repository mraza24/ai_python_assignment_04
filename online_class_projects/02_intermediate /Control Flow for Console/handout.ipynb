{
  "nbformat": 4,
  "nbformat_minor": 0,
  "metadata": {
    "colab": {
      "provenance": [],
      "authorship_tag": "ABX9TyNOmE1dwb/FsEYU7pZ4oQgA",
      "include_colab_link": true
    },
    "kernelspec": {
      "name": "python3",
      "display_name": "Python 3"
    },
    "language_info": {
      "name": "python"
    }
  },
  "cells": [
    {
      "cell_type": "markdown",
      "metadata": {
        "id": "view-in-github",
        "colab_type": "text"
      },
      "source": [
        "<a href=\"https://colab.research.google.com/github/mraza24/ai_python_assignment_04/blob/main/online_class_projects/02_intermediate%20/Control%20Flow%20for%20Console/handout.ipynb\" target=\"_parent\"><img src=\"https://colab.research.google.com/assets/colab-badge.svg\" alt=\"Open In Colab\"/></a>"
      ]
    },
    {
      "cell_type": "code",
      "execution_count": null,
      "metadata": {
        "colab": {
          "base_uri": "https://localhost:8080/"
        },
        "id": "m_0ZBZh-jHxJ",
        "outputId": "8ce2a44a-ef7f-411f-8e7f-2532a547266f"
      },
      "outputs": [
        {
          "output_type": "stream",
          "name": "stdout",
          "text": [
            "Welcome to the High-Low Game!\n",
            "--------------------------------\n",
            "Round 1\n",
            "Your number is 83\n",
            "Do you think your number is higher or lower than the computer's?: higher\n",
            "You were right! The computer's number was 16\n",
            "Your score is now 1\n",
            "\n",
            "Round 2\n",
            "Your number is 6\n",
            "Do you think your number is higher or lower than the computer's?: lower\n",
            "You were right! The computer's number was 88\n",
            "Your score is now 2\n",
            "\n",
            "Round 3\n",
            "Your number is 18\n",
            "Do you think your number is higher or lower than the computer's?: lower\n",
            "You were right! The computer's number was 40\n",
            "Your score is now 3\n",
            "\n",
            "Round 4\n",
            "Your number is 97\n",
            "Do you think your number is higher or lower than the computer's?: higher\n",
            "You were right! The computer's number was 60\n",
            "Your score is now 4\n",
            "\n",
            "Round 5\n",
            "Your number is 24\n",
            "Do you think your number is higher or lower than the computer's?: lower\n",
            "You were right! The computer's number was 26\n",
            "Your score is now 5\n",
            "\n",
            "Thanks for playing!\n",
            "Wow! You played perfectly!\n"
          ]
        }
      ],
      "source": [
        "import random\n",
        "\n",
        "NUM_ROUNDS = 5\n",
        "MIN = 1\n",
        "MAX = 100\n",
        "\n",
        "def main():\n",
        "    print(\"Welcome to the High-Low Game!\")\n",
        "    print(\"--------------------------------\")\n",
        "\n",
        "    score = 0\n",
        "\n",
        "    for round_number in range(1, NUM_ROUNDS + 1):\n",
        "        print(f\"Round {round_number}\")\n",
        "        user_number = random.randint(MIN, MAX)\n",
        "        computer_number = random.randint(MIN, MAX)\n",
        "\n",
        "        print(\"Your number is\", user_number)\n",
        "        guess = input(\"Do you think your number is higher or lower than the computer's?: \").lower()\n",
        "\n",
        "        while guess not in [\"higher\", \"lower\"]:\n",
        "            guess = input(\"Please enter either 'higher' or 'lower': \").lower()\n",
        "\n",
        "        if guess == \"higher\" and user_number > computer_number:\n",
        "            print(\"You were right! The computer's number was\", computer_number)\n",
        "            score += 1\n",
        "        elif guess == \"lower\" and user_number < computer_number:\n",
        "            print(\"You were right! The computer's number was\", computer_number)\n",
        "            score += 1\n",
        "        else:\n",
        "            print(\"Aww, that's incorrect. The computer's number was\", computer_number)\n",
        "\n",
        "        print(\"Your score is now\", score)\n",
        "        print()\n",
        "\n",
        "    print(\"Thanks for playing!\")\n",
        "    if score == NUM_ROUNDS:\n",
        "        print(\"Wow! You played perfectly!\")\n",
        "    elif score >= NUM_ROUNDS // 2:\n",
        "        print(\"Good job, you played really well!\")\n",
        "    else:\n",
        "        print(\"Better luck next time!\")\n",
        "\n",
        "if __name__ == '__main__':\n",
        "    main()\n"
      ]
    },
    {
      "cell_type": "code",
      "source": [],
      "metadata": {
        "id": "9D7MzltZl_zH"
      },
      "execution_count": null,
      "outputs": []
    }
  ]
}