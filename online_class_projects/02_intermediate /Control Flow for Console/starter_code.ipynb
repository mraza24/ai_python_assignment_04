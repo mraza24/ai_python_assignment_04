{
  "nbformat": 4,
  "nbformat_minor": 0,
  "metadata": {
    "colab": {
      "provenance": [],
      "authorship_tag": "ABX9TyM5yAR+yywRBS2IHqNGWJrM",
      "include_colab_link": true
    },
    "kernelspec": {
      "name": "python3",
      "display_name": "Python 3"
    },
    "language_info": {
      "name": "python"
    }
  },
  "cells": [
    {
      "cell_type": "markdown",
      "metadata": {
        "id": "view-in-github",
        "colab_type": "text"
      },
      "source": [
        "<a href=\"https://colab.research.google.com/github/mraza24/ai_python_assignment_04/blob/main/online_class_projects/02_intermediate%20/Control%20Flow%20for%20Console/starter_code.ipynb\" target=\"_parent\"><img src=\"https://colab.research.google.com/assets/colab-badge.svg\" alt=\"Open In Colab\"/></a>"
      ]
    },
    {
      "cell_type": "code",
      "execution_count": null,
      "metadata": {
        "colab": {
          "base_uri": "https://localhost:8080/"
        },
        "id": "_2roAMQD1E0Z",
        "outputId": "1051b8df-1813-4cb1-a83f-2fcbced0ee48"
      },
      "outputs": [
        {
          "output_type": "stream",
          "name": "stdout",
          "text": [
            "Welcome to the High-Low Game!\n",
            "--------------------------------\n",
            "Round 1\n",
            "Your number is 17\n",
            "Do you think your number is higher or lower than the computer's?: lower\n",
            "You were right! The computer's number was 99\n",
            "Your score is now 1\n",
            "\n",
            "Round 2\n",
            "Your number is 30\n",
            "Do you think your number is higher or lower than the computer's?: lower\n",
            "Aww, that's incorrect. The computer's number was 24\n",
            "Your score is now 1\n",
            "\n",
            "Round 3\n",
            "Your number is 89\n",
            "Do you think your number is higher or lower than the computer's?: higher\n",
            "You were right! The computer's number was 18\n",
            "Your score is now 2\n",
            "\n",
            "Round 4\n",
            "Your number is 51\n",
            "Do you think your number is higher or lower than the computer's?: higher\n",
            "Aww, that's incorrect. The computer's number was 54\n",
            "Your score is now 2\n",
            "\n",
            "Round 5\n",
            "Your number is 54\n",
            "Do you think your number is higher or lower than the computer's?: higher\n",
            "Aww, that's incorrect. The computer's number was 72\n",
            "Your score is now 2\n",
            "\n",
            "Your final score is 2\n",
            "Better luck next time!\n"
          ]
        }
      ],
      "source": [
        "import random\n",
        "\n",
        "NUM_ROUNDS = 5\n",
        "\n",
        "def main():\n",
        "    print(\"Welcome to the High-Low Game!\")\n",
        "    print('--------------------------------')\n",
        "\n",
        "    your_score = 0\n",
        "\n",
        "    for round_num in range(1, NUM_ROUNDS + 1):\n",
        "        print(f\"Round {round_num}\")\n",
        "        your_number = random.randint(1, 100)\n",
        "        computer_number = random.randint(1, 100)\n",
        "        print(\"Your number is\", your_number)\n",
        "\n",
        "        guess = input(\"Do you think your number is higher or lower than the computer's?: \").strip().lower()\n",
        "\n",
        "        while guess not in ['higher', 'lower']:\n",
        "            guess = input(\"Please enter 'higher' or 'lower': \").strip().lower()\n",
        "\n",
        "        if guess == 'higher' and your_number > computer_number:\n",
        "            print(\"You were right! The computer's number was\", computer_number)\n",
        "            your_score += 1\n",
        "        elif guess == 'lower' and your_number < computer_number:\n",
        "            print(\"You were right! The computer's number was\", computer_number)\n",
        "            your_score += 1\n",
        "        else:\n",
        "            print(\"Aww, that's incorrect. The computer's number was\", computer_number)\n",
        "\n",
        "        print(\"Your score is now\", your_score)\n",
        "        print()\n",
        "\n",
        "    print(\"Your final score is\", your_score)\n",
        "    if your_score == NUM_ROUNDS:\n",
        "        print(\"Wow! You played perfectly!\")\n",
        "    elif your_score > NUM_ROUNDS // 2:\n",
        "        print(\"Good job, you played really well!\")\n",
        "    else:\n",
        "        print(\"Better luck next time!\")\n",
        "\n",
        "if __name__ == \"__main__\":\n",
        "    main()\n"
      ]
    },
    {
      "cell_type": "code",
      "source": [],
      "metadata": {
        "id": "n5nb1WiG1o1-"
      },
      "execution_count": null,
      "outputs": []
    }
  ]
}