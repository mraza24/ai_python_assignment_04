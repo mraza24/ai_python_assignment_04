{
  "nbformat": 4,
  "nbformat_minor": 0,
  "metadata": {
    "colab": {
      "provenance": []
    },
    "kernelspec": {
      "name": "python3",
      "display_name": "Python 3"
    },
    "language_info": {
      "name": "python"
    }
  },
  "cells": [
    {
      "cell_type": "code",
      "execution_count": null,
      "metadata": {
        "colab": {
          "base_uri": "https://localhost:8080/"
        },
        "id": "lzshDrZPqK8K",
        "outputId": "5504fad4-69c0-4daa-aba8-17a833d9fea8"
      },
      "outputs": [
        {
          "output_type": "stream",
          "name": "stdout",
          "text": [
            "Enter the length of AB: 3\n",
            "Enter the length of AC: 4\n",
            "The length of BC (the hypotenuse) is: 5.0\n"
          ]
        }
      ],
      "source": [
        "import math  # Math library ko import karna zaroori hai for sqrt\n",
        "\n",
        "def main():\n",
        "    # User se inputs lena\n",
        "    ab = float(input(\"Enter the length of AB: \"))\n",
        "    ac = float(input(\"Enter the length of AC: \"))\n",
        "\n",
        "    # Pythagorean Theorem ka formula apply karna\n",
        "    bc = math.sqrt(ab**2 + ac**2)\n",
        "\n",
        "    # Output dikhana\n",
        "    print(\"The length of BC (the hypotenuse) is:\", bc)\n",
        "\n",
        "# Ye line main() function ko run karne ke liye zaroori hai\n",
        "if __name__ == '__main__':\n",
        "    main()"
      ]
    },
    {
      "cell_type": "code",
      "source": [],
      "metadata": {
        "id": "CiEpxXmjqfQE"
      },
      "execution_count": null,
      "outputs": []
    }
  ]
}