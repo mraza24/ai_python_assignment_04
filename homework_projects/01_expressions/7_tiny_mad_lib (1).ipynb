{
  "nbformat": 4,
  "nbformat_minor": 0,
  "metadata": {
    "colab": {
      "provenance": []
    },
    "kernelspec": {
      "name": "python3",
      "display_name": "Python 3"
    },
    "language_info": {
      "name": "python"
    }
  },
  "cells": [
    {
      "cell_type": "code",
      "execution_count": 1,
      "metadata": {
        "colab": {
          "base_uri": "https://localhost:8080/"
        },
        "id": "-kJbgg-G9tao",
        "outputId": "12f45610-3268-41d3-c834-421717f723e3"
      },
      "outputs": [
        {
          "output_type": "stream",
          "name": "stdout",
          "text": [
            "Please type an adjective and press enter: glowing\n",
            "Please type a noun and press enter: robot\n",
            "Please type a verb and press enter: dance\n",
            "Panaversity is fun. I learned to program and used Python to make my glowing robot dance!\n"
          ]
        }
      ],
      "source": [
        "# Starting part of the sentence\n",
        "SENTENCE_START = \"Panaversity is fun. I learned to program and used Python to make my \"\n",
        "\n",
        "def main():\n",
        "    # Ask the user for words\n",
        "    adjective = input(\"Please type an adjective and press enter: \")\n",
        "    noun = input(\"Please type a noun and press enter: \")\n",
        "    verb = input(\"Please type a verb and press enter: \")\n",
        "\n",
        "    # Create the full sentence\n",
        "    full_sentence = SENTENCE_START + adjective + \" \" + noun + \" \" + verb + \"!\"\n",
        "\n",
        "    # Print the final output\n",
        "    print(full_sentence)\n",
        "\n",
        "# Required to run the main function\n",
        "if __name__ == '__main__':\n",
        "    main()\n"
      ]
    },
    {
      "cell_type": "code",
      "source": [],
      "metadata": {
        "id": "CzYsJurD95i1"
      },
      "execution_count": null,
      "outputs": []
    }
  ]
}


Deleted invalid notebook from wrong folder
