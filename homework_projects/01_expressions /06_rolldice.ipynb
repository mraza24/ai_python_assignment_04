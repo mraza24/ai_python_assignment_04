{
  "nbformat": 4,
  "nbformat_minor": 0,
  "metadata": {
    "colab": {
      "provenance": [],
      "authorship_tag": "ABX9TyM87J89l9uYn6c63MHLNGN9",
      "include_colab_link": true
    },
    "kernelspec": {
      "name": "python3",
      "display_name": "Python 3"
    },
    "language_info": {
      "name": "python"
    }
  },
  "cells": [
    {
      "cell_type": "markdown",
      "metadata": {
        "id": "view-in-github",
        "colab_type": "text"
      },
      "source": [
        "<a href=\"https://colab.research.google.com/github/mraza24/ai_python_assignment_04/blob/main/homework_projects/01_expressions%20/06_rolldice.ipynb\" target=\"_parent\"><img src=\"https://colab.research.google.com/assets/colab-badge.svg\" alt=\"Open In Colab\"/></a>"
      ]
    },
    {
      "cell_type": "code",
      "execution_count": null,
      "metadata": {
        "colab": {
          "base_uri": "https://localhost:8080/"
        },
        "id": "-qaP_x4n1SJw",
        "outputId": "eeb5516c-2abf-4e13-d8b2-efde6d612bbf"
      },
      "outputs": [
        {
          "output_type": "stream",
          "name": "stdout",
          "text": [
            "Dice have 6 sides each.\n",
            "First die: 5\n",
            "Second die: 2\n",
            "Total of two dice: 7\n"
          ]
        }
      ],
      "source": [
        "import random  # Random module use karte hain dice roll simulate karne ke liye\n",
        "\n",
        "# Har dice ke sides ki tadaad\n",
        "NUM_SIDES = 6\n",
        "\n",
        "def main():\n",
        "    # Dice roll karte hain (1 se 6 tak random number)\n",
        "    die1 = random.randint(1, NUM_SIDES)\n",
        "    die2 = random.randint(1, NUM_SIDES)\n",
        "\n",
        "    # Total calculate karein\n",
        "    total = die1 + die2\n",
        "\n",
        "    # Result print karein\n",
        "    print(\"Dice have\", NUM_SIDES, \"sides each.\")\n",
        "    print(\"First die:\", die1)\n",
        "    print(\"Second die:\", die2)\n",
        "    print(\"Total of two dice:\", total)\n",
        "\n",
        "# Program chalane ke liye zaroori line\n",
        "if __name__ == '__main__':\n",
        "    main()"
      ]
    },
    {
      "cell_type": "code",
      "source": [],
      "metadata": {
        "id": "2BjGj18_1mCD"
      },
      "execution_count": null,
      "outputs": []
    }
  ]
}