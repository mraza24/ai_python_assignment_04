{
  "nbformat": 4,
  "nbformat_minor": 0,
  "metadata": {
    "colab": {
      "provenance": [],
      "authorship_tag": "ABX9TyNGeKDwiN8KDdoFYhounu3U",
      "include_colab_link": true
    },
    "kernelspec": {
      "name": "python3",
      "display_name": "Python 3"
    },
    "language_info": {
      "name": "python"
    }
  },
  "cells": [
    {
      "cell_type": "markdown",
      "metadata": {
        "id": "view-in-github",
        "colab_type": "text"
      },
      "source": [
        "<a href=\"https://colab.research.google.com/github/mraza24/ai_python_assignment_04/blob/main/projects_to_be_submitted_by_students%20/Project_4_Rock%2C_paper%2C_scissors_Python_Project.ipynb\" target=\"_parent\"><img src=\"https://colab.research.google.com/assets/colab-badge.svg\" alt=\"Open In Colab\"/></a>"
      ]
    },
    {
      "cell_type": "code",
      "execution_count": null,
      "metadata": {
        "colab": {
          "base_uri": "https://localhost:8080/"
        },
        "id": "A0AoAo-gogRd",
        "outputId": "de5fc316-dadf-4b8e-ad3c-ec718b6bf75c"
      },
      "outputs": [
        {
          "output_type": "stream",
          "name": "stdout",
          "text": [
            "Welcome to Rock, Paper, Scissors!\n",
            "Choose rock, paper, or scissors: rock\n",
            "Computer chose: scissors\n",
            "You win this round! 🎉\n",
            "Score: You 1 - 0 Computer\n",
            "Play another round? (yes/no): yes\n",
            "Choose rock, paper, or scissors: paper\n",
            "Computer chose: rock\n",
            "You win this round! 🎉\n",
            "Score: You 2 - 0 Computer\n",
            "Play another round? (yes/no): yes\n",
            "Choose rock, paper, or scissors: scissors\n",
            "Computer chose: rock\n",
            "You lost this round. 😢\n",
            "Score: You 2 - 1 Computer\n",
            "Play another round? (yes/no): no\n",
            "Thanks for playing! Final Score:\n",
            "You: 2 | Computer: 1\n"
          ]
        }
      ],
      "source": [
        "import random\n",
        "\n",
        "def play_round():\n",
        "    user = input(\"Choose rock, paper, or scissors: \").lower()\n",
        "    options = ['rock', 'paper', 'scissors']\n",
        "\n",
        "    if user not in options:\n",
        "        print(\"Invalid choice. Please choose rock, paper, or scissors.\")\n",
        "        return None\n",
        "\n",
        "    computer = random.choice(options)\n",
        "    print(f\"Computer chose: {computer}\")\n",
        "\n",
        "    if user == computer:\n",
        "        return \"tie\"\n",
        "\n",
        "    if (user == 'rock' and computer == 'scissors') or \\\n",
        "       (user == 'scissors' and computer == 'paper') or \\\n",
        "       (user == 'paper' and computer == 'rock'):\n",
        "        return \"win\"\n",
        "    else:\n",
        "        return \"lose\"\n",
        "\n",
        "def play_game():\n",
        "    print(\"Welcome to Rock, Paper, Scissors!\")\n",
        "    user_score = 0\n",
        "    computer_score = 0\n",
        "\n",
        "    while True:\n",
        "        result = play_round()\n",
        "        if result == \"win\":\n",
        "            print(\"You win this round! 🎉\")\n",
        "            user_score += 1\n",
        "        elif result == \"lose\":\n",
        "            print(\"You lost this round. 😢\")\n",
        "            computer_score += 1\n",
        "        elif result == \"tie\":\n",
        "            print(\"This round is a tie!\")\n",
        "\n",
        "        print(f\"Score: You {user_score} - {computer_score} Computer\")\n",
        "\n",
        "        play_again = input(\"Play another round? (yes/no): \").lower()\n",
        "        if play_again != 'yes':\n",
        "            print(\"Thanks for playing! Final Score:\")\n",
        "            print(f\"You: {user_score} | Computer: {computer_score}\")\n",
        "            break\n",
        "\n",
        "# Start the game\n",
        "play_game()\n"
      ]
    },
    {
      "cell_type": "code",
      "source": [],
      "metadata": {
        "id": "SU98EdMOvhg2"
      },
      "execution_count": null,
      "outputs": []
    }
  ]
}