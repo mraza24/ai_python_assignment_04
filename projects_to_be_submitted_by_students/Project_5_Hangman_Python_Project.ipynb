{
  "nbformat": 4,
  "nbformat_minor": 0,
  "metadata": {
    "colab": {
      "provenance": [],
      "authorship_tag": "ABX9TyMckkZH4JNhbc8swMc6bgkC",
      "include_colab_link": true
    },
    "kernelspec": {
      "name": "python3",
      "display_name": "Python 3"
    },
    "language_info": {
      "name": "python"
    }
  },
  "cells": [
    {
      "cell_type": "markdown",
      "metadata": {
        "id": "view-in-github",
        "colab_type": "text"
      },
      "source": [
        "<a href=\"https://colab.research.google.com/github/mraza24/ai_python_assignment_04/blob/main/projects_to_be_submitted_by_students/Project_5_Hangman_Python_Project.ipynb\" target=\"_parent\"><img src=\"https://colab.research.google.com/assets/colab-badge.svg\" alt=\"Open In Colab\"/></a>"
      ]
    },
    {
      "cell_type": "code",
      "execution_count": null,
      "metadata": {
        "colab": {
          "base_uri": "https://localhost:8080/"
        },
        "id": "buz2qF8WxJQm",
        "outputId": "26fc3ecd-e293-470a-8a68-dee5361e2293"
      },
      "outputs": [
        {
          "output_type": "stream",
          "name": "stdout",
          "text": [
            "🎮 Welcome to Hangman!\n",
            "Guess the word, one letter at a time.\n",
            "\n",
            "Word:  _ _ _ _ _\n",
            "Guessed letters: \n",
            "Guess a letter: a\n",
            "✅ Good guess!\n",
            "\n",
            "Word:  a _ _ _ _\n",
            "Guessed letters: a\n",
            "Guess a letter: e\n",
            "✅ Good guess!\n",
            "\n",
            "Word:  a _ _ _ e\n",
            "Guessed letters: a, e\n",
            "Guess a letter: t\n",
            "❌ Wrong guess! You have 5 tries left.\n",
            "\n",
            "Word:  a _ _ _ e\n",
            "Guessed letters: a, e, t\n",
            "Guess a letter: r\n",
            "❌ Wrong guess! You have 4 tries left.\n",
            "\n",
            "Word:  a _ _ _ e\n",
            "Guessed letters: a, e, t, r\n",
            "Guess a letter: s\n",
            "❌ Wrong guess! You have 3 tries left.\n",
            "\n",
            "Word:  a _ _ _ e\n",
            "Guessed letters: a, e, t, r, s\n",
            "Guess a letter: n\n",
            "❌ Wrong guess! You have 2 tries left.\n",
            "\n",
            "Word:  a _ _ _ e\n",
            "Guessed letters: a, e, t, r, s, n\n",
            "Guess a letter: p\n",
            "✅ Good guess!\n",
            "\n",
            "Word:  a p p _ e\n",
            "Guessed letters: a, e, t, r, s, n, p\n",
            "Guess a letter: l\n",
            "✅ Good guess!\n",
            "\n",
            "🎉 Congratulations! You guessed the word: apple\n"
          ]
        }
      ],
      "source": [
        "import random\n",
        "\n",
        "# Word list\n",
        "words = ['apple', 'banana', 'grapes', 'orange', 'mango', 'cherry', 'peach']\n",
        "\n",
        "# Choose a random word\n",
        "word = random.choice(words)\n",
        "\n",
        "# Create hidden version of the word\n",
        "guessed_word = ['_'] * len(word)\n",
        "guessed_letters = []\n",
        "tries = 6\n",
        "\n",
        "print(\"🎮 Welcome to Hangman!\")\n",
        "print(\"Guess the word, one letter at a time.\")\n",
        "\n",
        "# Game loop\n",
        "while tries > 0 and '_' in guessed_word:\n",
        "    print(\"\\nWord: \", ' '.join(guessed_word))\n",
        "    print(\"Guessed letters:\", ', '.join(guessed_letters))\n",
        "    guess = input(\"Guess a letter: \").lower()\n",
        "\n",
        "    if not guess.isalpha() or len(guess) != 1:\n",
        "        print(\"⚠️ Please enter a single alphabet letter.\")\n",
        "        continue\n",
        "\n",
        "    if guess in guessed_letters:\n",
        "        print(\"⚠️ You already guessed that letter.\")\n",
        "        continue\n",
        "\n",
        "    guessed_letters.append(guess)\n",
        "\n",
        "    if guess in word:\n",
        "        for i in range(len(word)):\n",
        "            if word[i] == guess:\n",
        "                guessed_word[i] = guess\n",
        "        print(\"✅ Good guess!\")\n",
        "    else:\n",
        "        tries -= 1\n",
        "        print(f\"❌ Wrong guess! You have {tries} tries left.\")\n",
        "\n",
        "# Game over logic\n",
        "if '_' not in guessed_word:\n",
        "    print(\"\\n🎉 Congratulations! You guessed the word:\", word)\n",
        "else:\n",
        "    print(\"\\n💀 Game Over! The word was:\", word)\n"
      ]
    },
    {
      "cell_type": "code",
      "source": [],
      "metadata": {
        "id": "dwZCXJhqzQwC"
      },
      "execution_count": null,
      "outputs": []
    }
  ]
}