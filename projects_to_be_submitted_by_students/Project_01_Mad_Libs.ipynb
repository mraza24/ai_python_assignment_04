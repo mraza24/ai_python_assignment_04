{
  "nbformat": 4,
  "nbformat_minor": 0,
  "metadata": {
    "colab": {
      "provenance": [],
      "authorship_tag": "ABX9TyNbBQKL4/yfCPghSfp6d3b8",
      "include_colab_link": true
    },
    "kernelspec": {
      "name": "python3",
      "display_name": "Python 3"
    },
    "language_info": {
      "name": "python"
    }
  },
  "cells": [
    {
      "cell_type": "markdown",
      "metadata": {
        "id": "view-in-github",
        "colab_type": "text"
      },
      "source": [
        "<a href=\"https://colab.research.google.com/github/mraza24/ai_python_assignment_04/blob/main/projects_to_be_submitted_by_students/Project_01_Mad_Libs.ipynb\" target=\"_parent\"><img src=\"https://colab.research.google.com/assets/colab-badge.svg\" alt=\"Open In Colab\"/></a>"
      ]
    },
    {
      "cell_type": "code",
      "execution_count": null,
      "metadata": {
        "colab": {
          "base_uri": "https://localhost:8080/"
        },
        "id": "CXS4AjceHSYl",
        "outputId": "7f34acb6-d4b0-454b-eca4-81d7e5bc2bca"
      },
      "outputs": [
        {
          "output_type": "stream",
          "name": "stdout",
          "text": [
            "Welcome to the Mad Libs Game!\n",
            "Please provide the following words:\n",
            "Enter a noun: teacher\n",
            "Enter an adjective: funny\n",
            "Enter a verb: dance\n",
            "Enter another noun: happiness\n",
            "Enter another adjective: beautiful\n",
            "Enter a place: park\n",
            "Enter a verb ending in -ing: jumping\n",
            "Enter an animal: tiger\n",
            "\n",
            "--- Your Mad Libs Story ---\n",
            "\n",
            "Today I went to the park. I saw a very funny teacher jumping up and down.\n",
            "It started to dance right in front of a beautiful happiness. \n",
            "Then, out of nowhere, a tiger appeared and started jumping too!\n",
            "It was the craziest day ever.\n",
            "\n"
          ]
        }
      ],
      "source": [
        "# Project 1: Mad Libs\n",
        "\n",
        "print(\"Welcome to the Mad Libs Game!\")\n",
        "print(\"Please provide the following words:\")\n",
        "\n",
        "# Collect inputs from the user\n",
        "noun1 = input(\"Enter a noun: \")\n",
        "adjective1 = input(\"Enter an adjective: \")\n",
        "verb1 = input(\"Enter a verb: \")\n",
        "noun2 = input(\"Enter another noun: \")\n",
        "adjective2 = input(\"Enter another adjective: \")\n",
        "place = input(\"Enter a place: \")\n",
        "verb2 = input(\"Enter a verb ending in -ing: \")\n",
        "animal = input(\"Enter an animal: \")\n",
        "\n",
        "# Mad Libs story template using f-strings\n",
        "story = f\"\"\"\n",
        "Today I went to the {place}. I saw a very {adjective1} {noun1} jumping up and down.\n",
        "It started to {verb1} right in front of a {adjective2} {noun2}.\n",
        "Then, out of nowhere, a {animal} appeared and started {verb2} too!\n",
        "It was the craziest day ever.\n",
        "\"\"\"\n",
        "\n",
        "# Print the final story\n",
        "print(\"\\n--- Your Mad Libs Story ---\")\n",
        "print(story)\n",
        "\n"
      ]
    },
    {
      "cell_type": "code",
      "source": [],
      "metadata": {
        "id": "up3_mte_i22l"
      },
      "execution_count": null,
      "outputs": []
    }
  ]
}