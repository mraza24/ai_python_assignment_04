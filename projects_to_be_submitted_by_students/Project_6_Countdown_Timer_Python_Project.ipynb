{
  "nbformat": 4,
  "nbformat_minor": 0,
  "metadata": {
    "colab": {
      "provenance": [],
      "authorship_tag": "ABX9TyMLoQZGp5vxWN6mR3iVlqzj",
      "include_colab_link": true
    },
    "kernelspec": {
      "name": "python3",
      "display_name": "Python 3"
    },
    "language_info": {
      "name": "python"
    }
  },
  "cells": [
    {
      "cell_type": "markdown",
      "metadata": {
        "id": "view-in-github",
        "colab_type": "text"
      },
      "source": [
        "<a href=\"https://colab.research.google.com/github/mraza24/ai_python_assignment_04/blob/main/projects_to_be_submitted_by_students/Project_6_Countdown_Timer_Python_Project.ipynb\" target=\"_parent\"><img src=\"https://colab.research.google.com/assets/colab-badge.svg\" alt=\"Open In Colab\"/></a>"
      ]
    },
    {
      "cell_type": "code",
      "execution_count": null,
      "metadata": {
        "colab": {
          "base_uri": "https://localhost:8080/"
        },
        "id": "yJUYBmhV2aJi",
        "outputId": "e6739c33-0614-494b-c65c-c22773bab42b"
      },
      "outputs": [
        {
          "output_type": "stream",
          "name": "stdout",
          "text": [
            "Enter the countdown time in seconds: 10\n",
            "Time's up! 🎉\n"
          ]
        }
      ],
      "source": [
        "import time\n",
        "\n",
        "def countdown_timer():\n",
        "    # Ask the user for the time input\n",
        "    try:\n",
        "        total_seconds = int(input(\"Enter the countdown time in seconds: \"))\n",
        "    except ValueError:\n",
        "        print(\"Please enter a valid integer for seconds.\")\n",
        "        return\n",
        "\n",
        "    # While loop to count down from the total time\n",
        "    while total_seconds > 0:\n",
        "        minutes, seconds = divmod(total_seconds, 60)  # Convert time to minutes and seconds\n",
        "        time_format = f\"{minutes:02}:{seconds:02}\"  # Format time in MM:SS format\n",
        "        print(time_format, end='\\r')  # Print the countdown with carriage return\n",
        "        time.sleep(1)  # Wait for 1 second\n",
        "        total_seconds -= 1  # Decrease the time by 1 second\n",
        "\n",
        "    print(\"Time's up! 🎉\")  # When time reaches zero\n",
        "\n",
        "countdown_timer()\n"
      ]
    },
    {
      "cell_type": "code",
      "source": [],
      "metadata": {
        "id": "wp85_AJ34KV3"
      },
      "execution_count": null,
      "outputs": []
    }
  ]
}