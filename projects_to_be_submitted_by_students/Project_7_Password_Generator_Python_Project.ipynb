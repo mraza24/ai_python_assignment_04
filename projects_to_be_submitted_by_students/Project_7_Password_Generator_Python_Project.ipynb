{
  "nbformat": 4,
  "nbformat_minor": 0,
  "metadata": {
    "colab": {
      "provenance": [],
      "authorship_tag": "ABX9TyN2LF+UYqTMN0b043NLyytd",
      "include_colab_link": true
    },
    "kernelspec": {
      "name": "python3",
      "display_name": "Python 3"
    },
    "language_info": {
      "name": "python"
    }
  },
  "cells": [
    {
      "cell_type": "markdown",
      "metadata": {
        "id": "view-in-github",
        "colab_type": "text"
      },
      "source": [
        "<a href=\"https://colab.research.google.com/github/mraza24/ai_python_assignment_04/blob/main/projects_to_be_submitted_by_students/Project_7_Password_Generator_Python_Project.ipynb\" target=\"_parent\"><img src=\"https://colab.research.google.com/assets/colab-badge.svg\" alt=\"Open In Colab\"/></a>"
      ]
    },
    {
      "cell_type": "code",
      "execution_count": null,
      "metadata": {
        "colab": {
          "base_uri": "https://localhost:8080/"
        },
        "id": "uVO6XSnM5oqx",
        "outputId": "82b99761-2596-4533-99ce-08c44703f19a"
      },
      "outputs": [
        {
          "output_type": "stream",
          "name": "stdout",
          "text": [
            "How many passwords do you want to generate? 3\n",
            "What should be the length of each password? 12\n",
            "Password 1: )DirGy;|U6%+\n",
            "Password 2: >fY_`3b]4j\\*\n",
            "Password 3: xse-lF$jFcZR\n"
          ]
        }
      ],
      "source": [
        "import random\n",
        "import string\n",
        "\n",
        "# Step 1: Get user input\n",
        "num_passwords = int(input(\"How many passwords do you want to generate? \"))\n",
        "password_length = int(input(\"What should be the length of each password? \"))\n",
        "\n",
        "# Step 2: Character pool\n",
        "characters = string.ascii_letters + string.digits + string.punctuation\n",
        "\n",
        "# Step 3: Generate passwords\n",
        "for i in range(num_passwords):\n",
        "    password = ''.join(random.choice(characters) for _ in range(password_length))\n",
        "    print(f\"Password {i+1}: {password}\")\n"
      ]
    },
    {
      "cell_type": "code",
      "source": [],
      "metadata": {
        "id": "b-1VGR4t6a_z"
      },
      "execution_count": null,
      "outputs": []
    }
  ]
}