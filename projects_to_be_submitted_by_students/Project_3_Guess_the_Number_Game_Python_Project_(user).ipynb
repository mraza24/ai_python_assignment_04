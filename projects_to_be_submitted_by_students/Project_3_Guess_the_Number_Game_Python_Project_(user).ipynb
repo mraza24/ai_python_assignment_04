{
  "nbformat": 4,
  "nbformat_minor": 0,
  "metadata": {
    "colab": {
      "provenance": [],
      "authorship_tag": "ABX9TyNGsKQtK7TABfNZmQNnF1kf",
      "include_colab_link": true
    },
    "kernelspec": {
      "name": "python3",
      "display_name": "Python 3"
    },
    "language_info": {
      "name": "python"
    }
  },
  "cells": [
    {
      "cell_type": "markdown",
      "metadata": {
        "id": "view-in-github",
        "colab_type": "text"
      },
      "source": [
        "<a href=\"https://colab.research.google.com/github/mraza24/ai_python_assignment_04/blob/main/projects_to_be_submitted_by_students/Project_3_Guess_the_Number_Game_Python_Project_(user).ipynb\" target=\"_parent\"><img src=\"https://colab.research.google.com/assets/colab-badge.svg\" alt=\"Open In Colab\"/></a>"
      ]
    },
    {
      "cell_type": "code",
      "execution_count": null,
      "metadata": {
        "colab": {
          "base_uri": "https://localhost:8080/"
        },
        "id": "cmf4xctyqVqg",
        "outputId": "6dfd26cd-932c-40a5-bfe2-ac1e5afa3fdc"
      },
      "outputs": [
        {
          "output_type": "stream",
          "name": "stdout",
          "text": [
            "Think of a number between 1 and 100 and I'll try to guess it!\n",
            "My guess is: 50\n",
            "Is it too High (H), too Low (L), or Correct (C)? l\n",
            "My guess is: 75\n",
            "Is it too High (H), too Low (L), or Correct (C)? H\n",
            "My guess is: 62\n",
            "Is it too High (H), too Low (L), or Correct (C)? L\n",
            "My guess is: 68\n",
            "Is it too High (H), too Low (L), or Correct (C)? H\n",
            "My guess is: 65\n",
            "Is it too High (H), too Low (L), or Correct (C)? L\n",
            "My guess is: 66\n",
            "Is it too High (H), too Low (L), or Correct (C)? C\n",
            "Yay! I guessed your number 66 in 6 tries!\n"
          ]
        }
      ],
      "source": [
        "def guess_number():\n",
        "    print(\"Think of a number between 1 and 100 and I'll try to guess it!\")\n",
        "\n",
        "    low = 1\n",
        "    high = 100\n",
        "    guesses = 0\n",
        "\n",
        "    while True:\n",
        "        if low > high:\n",
        "            print(\"Hmm... are you sure you gave the right answers?\")\n",
        "            break\n",
        "\n",
        "        guess = (low + high) // 2\n",
        "        guesses += 1\n",
        "\n",
        "        print(f\"My guess is: {guess}\")\n",
        "        feedback = input(\"Is it too High (H), too Low (L), or Correct (C)? \").upper()\n",
        "\n",
        "        if feedback == 'H':\n",
        "            high = guess - 1\n",
        "        elif feedback == 'L':\n",
        "            low = guess + 1\n",
        "        elif feedback == 'C':\n",
        "            print(f\"Yay! I guessed your number {guess} in {guesses} tries!\")\n",
        "            break\n",
        "        else:\n",
        "            print(\"Please enter H, L, or C.\")\n",
        "\n",
        "# Start the game\n",
        "guess_number()\n"
      ]
    },
    {
      "cell_type": "code",
      "source": [],
      "metadata": {
        "id": "z9L8dm05qkem"
      },
      "execution_count": null,
      "outputs": []
    }
  ]
}