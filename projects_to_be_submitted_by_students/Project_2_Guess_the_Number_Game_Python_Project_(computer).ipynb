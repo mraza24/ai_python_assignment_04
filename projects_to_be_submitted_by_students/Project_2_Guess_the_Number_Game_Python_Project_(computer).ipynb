{
  "nbformat": 4,
  "nbformat_minor": 0,
  "metadata": {
    "colab": {
      "provenance": [],
      "authorship_tag": "ABX9TyO9f9bWo+VILrmIt5o4xuvc",
      "include_colab_link": true
    },
    "kernelspec": {
      "name": "python3",
      "display_name": "Python 3"
    },
    "language_info": {
      "name": "python"
    }
  },
  "cells": [
    {
      "cell_type": "markdown",
      "metadata": {
        "id": "view-in-github",
        "colab_type": "text"
      },
      "source": [
        "<a href=\"https://colab.research.google.com/github/mraza24/ai_python_assignment_04/blob/main/projects_to_be_submitted_by_students/Project_2_Guess_the_Number_Game_Python_Project_(computer).ipynb\" target=\"_parent\"><img src=\"https://colab.research.google.com/assets/colab-badge.svg\" alt=\"Open In Colab\"/></a>"
      ]
    },
    {
      "cell_type": "code",
      "execution_count": null,
      "metadata": {
        "colab": {
          "base_uri": "https://localhost:8080/"
        },
        "id": "BjVBOs_Fmbbg",
        "outputId": "855cd9a0-60c1-4411-9a0f-ff32ffe95f33"
      },
      "outputs": [
        {
          "output_type": "stream",
          "name": "stdout",
          "text": [
            "Think of a number between 1 and 100. I will try to guess it!\n",
            "Is 52 too high (H), too low (L), or correct (C)? H\n",
            "Is 47 too high (H), too low (L), or correct (C)? H\n",
            "Is 28 too high (H), too low (L), or correct (C)? L\n",
            "Is 44 too high (H), too low (L), or correct (C)? H\n",
            "Is 36 too high (H), too low (L), or correct (C)? L\n",
            "Is 37 too high (H), too low (L), or correct (C)? L\n",
            "Is 42 too high (H), too low (L), or correct (C)? C\n",
            "Yay! I guessed your number: 42 🎉\n"
          ]
        }
      ],
      "source": [
        "import random\n",
        "\n",
        "def computer_guess(x):\n",
        "    low = 1\n",
        "    high = x\n",
        "    feedback = ''\n",
        "\n",
        "    print(f\"Think of a number between 1 and {x}. I will try to guess it!\")\n",
        "\n",
        "    while feedback != 'c':\n",
        "        if low != high:\n",
        "            guess = random.randint(low, high)\n",
        "        else:\n",
        "            guess = low  # Could be high too, since low == high\n",
        "\n",
        "        feedback = input(f\"Is {guess} too high (H), too low (L), or correct (C)? \").lower()\n",
        "\n",
        "        if feedback == 'h':\n",
        "            high = guess - 1\n",
        "        elif feedback == 'l':\n",
        "            low = guess + 1\n",
        "        elif feedback == 'c':\n",
        "            print(f\"Yay! I guessed your number: {guess} 🎉\")\n",
        "        else:\n",
        "            print(\"Please enter 'H', 'L', or 'C'.\")\n",
        "\n",
        "# Run the game\n",
        "computer_guess(100)\n"
      ]
    },
    {
      "cell_type": "code",
      "source": [],
      "metadata": {
        "id": "AV5hu1aNo402"
      },
      "execution_count": null,
      "outputs": []
    }
  ]
}