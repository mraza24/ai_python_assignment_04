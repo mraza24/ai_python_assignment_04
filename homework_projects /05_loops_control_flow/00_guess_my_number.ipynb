{
  "nbformat": 4,
  "nbformat_minor": 0,
  "metadata": {
    "colab": {
      "provenance": [],
      "authorship_tag": "ABX9TyPNrj28eGkoVCHrEEQhax/c",
      "include_colab_link": true
    },
    "kernelspec": {
      "name": "python3",
      "display_name": "Python 3"
    },
    "language_info": {
      "name": "python"
    }
  },
  "cells": [
    {
      "cell_type": "markdown",
      "metadata": {
        "id": "view-in-github",
        "colab_type": "text"
      },
      "source": [
        "<a href=\"https://colab.research.google.com/github/mraza24/ai_python_assignment_04/blob/main/homework_projects%20/05_loops_control_flow/00_guess_my_number.ipynb\" target=\"_parent\"><img src=\"https://colab.research.google.com/assets/colab-badge.svg\" alt=\"Open In Colab\"/></a>"
      ]
    },
    {
      "cell_type": "code",
      "execution_count": null,
      "metadata": {
        "colab": {
          "base_uri": "https://localhost:8080/"
        },
        "id": "An5z1EYRgDTv",
        "outputId": "9bfa1b94-118e-42b3-a7e5-f8433e86d83c"
      },
      "outputs": [
        {
          "output_type": "stream",
          "name": "stdout",
          "text": [
            "I am thinking of a number between 1 and 99...\n",
            "Enter a guess: 48\n",
            "Your guess is too low\n",
            "\n",
            "Enter a new guess: 92\n",
            "Your guess is too high\n",
            "\n",
            "Enter a new guess: 60\n",
            "Your guess is too low\n",
            "\n",
            "Enter a new guess: 82\n",
            "Your guess is too high\n",
            "\n",
            "Enter a new guess: 72\n",
            "Your guess is too low\n",
            "\n",
            "Enter a new guess: 76\n",
            "Your guess is too low\n",
            "\n",
            "Enter a new guess: 80\n",
            "Your guess is too low\n",
            "\n",
            "Enter a new guess: 99\n",
            "Your guess is too high\n",
            "\n",
            "Enter a new guess: 90\n",
            "Your guess is too high\n",
            "\n",
            "Enter a new guess: 80\n",
            "Your guess is too low\n",
            "\n",
            "Enter a new guess: 85\n",
            "Your guess is too high\n",
            "\n",
            "Enter a new guess: 84\n",
            "Your guess is too high\n",
            "\n",
            "Enter a new guess: 83\n",
            "Your guess is too high\n",
            "\n",
            "Enter a new guess: 82\n",
            "Your guess is too high\n",
            "\n",
            "Enter a new guess: 81\n",
            "Congrats! The number was: 81\n"
          ]
        }
      ],
      "source": [
        "import random\n",
        "\n",
        "def main():\n",
        "    # Generate the secret number at random between 1 and 99\n",
        "    secret_number = random.randint(1, 99)\n",
        "\n",
        "    print(\"I am thinking of a number between 1 and 99...\")\n",
        "\n",
        "    # Get the player's first guess\n",
        "    guess = int(input(\"Enter a guess: \"))\n",
        "\n",
        "    # Loop until the guess is correct\n",
        "    while guess != secret_number:\n",
        "        if guess < secret_number:  # If the guess is too low\n",
        "            print(\"Your guess is too low\")\n",
        "        else:  # If the guess is too high\n",
        "            print(\"Your guess is too high\")\n",
        "\n",
        "        print()  # Print a blank line to make it cleaner\n",
        "        guess = int(input(\"Enter a new guess: \"))  # Get a new guess\n",
        "\n",
        "    # Once the correct number is guessed, congratulate the player\n",
        "    print(\"Congrats! The number was: \" + str(secret_number))\n",
        "\n",
        "if __name__ == '__main__':\n",
        "    main()\n"
      ]
    },
    {
      "cell_type": "code",
      "source": [],
      "metadata": {
        "id": "esG3coDQhn1n"
      },
      "execution_count": null,
      "outputs": []
    }
  ]
}