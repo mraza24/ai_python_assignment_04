{
  "nbformat": 4,
  "nbformat_minor": 0,
  "metadata": {
    "colab": {
      "provenance": [],
      "authorship_tag": "ABX9TyMg7BBoPqEbbzmi4o6+6po9",
      "include_colab_link": true
    },
    "kernelspec": {
      "name": "python3",
      "display_name": "Python 3"
    },
    "language_info": {
      "name": "python"
    }
  },
  "cells": [
    {
      "cell_type": "markdown",
      "metadata": {
        "id": "view-in-github",
        "colab_type": "text"
      },
      "source": [
        "<a href=\"https://colab.research.google.com/github/mraza24/ai_python_assignment_04/blob/main/homework_projects%20/04_dictionaries/01_phonebook.ipynb\" target=\"_parent\"><img src=\"https://colab.research.google.com/assets/colab-badge.svg\" alt=\"Open In Colab\"/></a>"
      ]
    },
    {
      "cell_type": "code",
      "execution_count": null,
      "metadata": {
        "colab": {
          "base_uri": "https://localhost:8080/"
        },
        "id": "V3T46oPjXQ49",
        "outputId": "f97dacd2-d606-4def-d200-9ae34d73733e"
      },
      "outputs": [
        {
          "output_type": "stream",
          "name": "stdout",
          "text": [
            "Name: John\n",
            "Number: 123-456-7890\n",
            "Name: Bob\n",
            "Number: 555-123-4567\n",
            "Name: \n",
            "John -> 123-456-7890\n",
            "Bob -> 555-123-4567\n",
            "Enter name to lookup: Bob\n",
            "555-123-4567\n",
            "Enter name to lookup: John\n",
            "123-456-7890\n"
          ]
        }
      ],
      "source": [
        "def read_phone_numbers():\n",
        "    \"\"\"\n",
        "    Ask the user for names/numbers to store in a phonebook (dictionary).\n",
        "    Returns the phonebook.\n",
        "    \"\"\"\n",
        "    phonebook = {}  # Create an empty dictionary\n",
        "\n",
        "    while True:\n",
        "        name = input(\"Name: \")\n",
        "        if name == \"\":  # Break if the user enters an empty name\n",
        "            break\n",
        "        number = input(\"Number: \")\n",
        "        phonebook[name] = number  # Add name and number to the dictionary\n",
        "\n",
        "    return phonebook\n",
        "\n",
        "\n",
        "def print_phonebook(phonebook):\n",
        "    \"\"\"\n",
        "    Prints out all the names/numbers in the phonebook.\n",
        "    \"\"\"\n",
        "    for name in phonebook:\n",
        "        print(str(name) + \" -> \" + str(phonebook[name]))\n",
        "\n",
        "\n",
        "def lookup_numbers(phonebook):\n",
        "    \"\"\"\n",
        "    Allow the user to lookup phone numbers in the phonebook\n",
        "    by looking up the number associated with a name.\n",
        "    \"\"\"\n",
        "    while True:\n",
        "        name = input(\"Enter name to lookup: \")\n",
        "        if name == \"\":  # Break if the user enters an empty name\n",
        "            break\n",
        "        if name not in phonebook:  # Check if name exists in the phonebook\n",
        "            print(name + \" is not in the phonebook\")\n",
        "        else:\n",
        "            print(phonebook[name])  # Print the phone number if name is found\n",
        "\n",
        "\n",
        "def main():\n",
        "    phonebook = read_phone_numbers()  # Get the phonebook from the user\n",
        "    print_phonebook(phonebook)  # Print all the names and numbers\n",
        "    lookup_numbers(phonebook)  # Allow the user to look up phone numbers\n",
        "\n",
        "\n",
        "# Python boilerplate.\n",
        "if __name__ == '__main__':\n",
        "    main()\n"
      ]
    },
    {
      "cell_type": "code",
      "source": [],
      "metadata": {
        "id": "TLONAhS2YBPU"
      },
      "execution_count": null,
      "outputs": []
    }
  ]
}