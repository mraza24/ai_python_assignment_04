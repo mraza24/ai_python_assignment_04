{
  "nbformat": 4,
  "nbformat_minor": 0,
  "metadata": {
    "colab": {
      "provenance": [],
      "authorship_tag": "ABX9TyP1mzxfGfzShowCwYP8c+co",
      "include_colab_link": true
    },
    "kernelspec": {
      "name": "python3",
      "display_name": "Python 3"
    },
    "language_info": {
      "name": "python"
    }
  },
  "cells": [
    {
      "cell_type": "markdown",
      "metadata": {
        "id": "view-in-github",
        "colab_type": "text"
      },
      "source": [
        "<a href=\"https://colab.research.google.com/github/mraza24/ai_python_assignment_04/blob/main/homework_projects%20/04_dictionaries/03_powerful_passwords.ipynb\" target=\"_parent\"><img src=\"https://colab.research.google.com/assets/colab-badge.svg\" alt=\"Open In Colab\"/></a>"
      ]
    },
    {
      "cell_type": "code",
      "execution_count": 1,
      "metadata": {
        "colab": {
          "base_uri": "https://localhost:8080/"
        },
        "id": "-xvhydBKc1Zk",
        "outputId": "2ca9c28b-5854-4829-95de-4c4b3ee5fa8a"
      },
      "outputs": [
        {
          "output_type": "stream",
          "name": "stdout",
          "text": [
            "False\n",
            "True\n",
            "False\n",
            "True\n",
            "False\n",
            "True\n"
          ]
        }
      ],
      "source": [
        "from hashlib import sha256\n",
        "\n",
        "# Function to hash the password using SHA256\n",
        "def hash_password(password):\n",
        "    \"\"\"\n",
        "    Takes in a password and returns the SHA256 hashed value for that specific password.\n",
        "\n",
        "    Inputs:\n",
        "        password: the password we want\n",
        "\n",
        "    Outputs:\n",
        "        the hashed form of the input password\n",
        "    \"\"\"\n",
        "    return sha256(password.encode()).hexdigest()\n",
        "\n",
        "\n",
        "# Function to check login based on the email and password\n",
        "def login(email, stored_logins, password_to_check):\n",
        "    \"\"\"\n",
        "    Returns True if the hash of the password we are checking matches the one in stored_logins\n",
        "    for a specific email. Otherwise, returns False.\n",
        "\n",
        "    email: the email we are checking the password for\n",
        "    stored_logins: a dictionary pointing from an email to its hashed password\n",
        "    password_to_check: a password we want to test alongside the email to login with\n",
        "    \"\"\"\n",
        "\n",
        "    # Check if the hash of the entered password matches the stored hashed password\n",
        "    if stored_logins[email] == hash_password(password_to_check):\n",
        "        return True\n",
        "    return False\n",
        "\n",
        "\n",
        "def main():\n",
        "    # Dictionary with emails as keys and hashed passwords as values\n",
        "    stored_logins = {\n",
        "        \"example@gmail.com\": \"5e884898da28047151d0e56f8dc6292773603d0d6aabbdd62a11ef721d1542d8\",  # Hashed 'password'\n",
        "        \"code_in_placer@cip.org\": \"973607a4ae7b4cf7d96a100b0fb07e8519cc4f70441d41214a9f811577bb06cc\",  # Hashed 'karel'\n",
        "        \"student@stanford.edu\": \"882c6df720fd99f5eebb1581a1cf975625cea8a160283011c0b9512bb56c95fb\"  # Hashed '123456'\n",
        "    }\n",
        "\n",
        "    # Testing login attempts with various passwords\n",
        "    print(login(\"example@gmail.com\", stored_logins, \"word\"))   # False (incorrect password)\n",
        "    print(login(\"example@gmail.com\", stored_logins, \"password\")) # True (correct password)\n",
        "\n",
        "    print(login(\"code_in_placer@cip.org\", stored_logins, \"Karel\"))  # False (incorrect case)\n",
        "    print(login(\"code_in_placer@cip.org\", stored_logins, \"karel\"))  # True (correct password)\n",
        "\n",
        "    print(login(\"student@stanford.edu\", stored_logins, \"password\"))  # False (incorrect password)\n",
        "    print(login(\"student@stanford.edu\", stored_logins, \"123!456?789\")) # False (incorrect password)\n",
        "\n",
        "\n",
        "if __name__ == '__main__':\n",
        "    main()\n"
      ]
    },
    {
      "cell_type": "code",
      "source": [],
      "metadata": {
        "id": "G_98W-cWdgKr"
      },
      "execution_count": null,
      "outputs": []
    }
  ]
}