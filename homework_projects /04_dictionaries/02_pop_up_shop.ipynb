{
  "nbformat": 4,
  "nbformat_minor": 0,
  "metadata": {
    "colab": {
      "provenance": [],
      "authorship_tag": "ABX9TyNbDM6NC2A3z7FfCx4HUAKw",
      "include_colab_link": true
    },
    "kernelspec": {
      "name": "python3",
      "display_name": "Python 3"
    },
    "language_info": {
      "name": "python"
    }
  },
  "cells": [
    {
      "cell_type": "markdown",
      "metadata": {
        "id": "view-in-github",
        "colab_type": "text"
      },
      "source": [
        "<a href=\"https://colab.research.google.com/github/mraza24/ai_python_assignment_04/blob/main/homework_projects%20/04_dictionaries/02_pop_up_shop.ipynb\" target=\"_parent\"><img src=\"https://colab.research.google.com/assets/colab-badge.svg\" alt=\"Open In Colab\"/></a>"
      ]
    },
    {
      "cell_type": "code",
      "execution_count": null,
      "metadata": {
        "colab": {
          "base_uri": "https://localhost:8080/"
        },
        "id": "pSI4YcT1aJ_c",
        "outputId": "03b35167-af32-4943-ca30-cf459c8fa088"
      },
      "outputs": [
        {
          "output_type": "stream",
          "name": "stdout",
          "text": [
            "How many (apple) do you want to buy?: 2\n",
            "How many (durian) do you want to buy?: 0\n",
            "How many (jackfruit) do you want to buy?: 1\n",
            "How many (kiwi) do you want to buy?: 4\n",
            "How many (rambutan) do you want to buy?: 0\n",
            "How many (mango) do you want to buy?: 2\n",
            "Your total is $97.0\n"
          ]
        }
      ],
      "source": [
        "def main():\n",
        "    # Step 1: Create a dictionary that stores fruit prices\n",
        "    fruits = {'apple': 1.5, 'durian': 50, 'jackfruit': 80, 'kiwi': 1, 'rambutan': 1.5, 'mango': 5}\n",
        "\n",
        "    # Step 2: Initialize total cost as 0\n",
        "    total_cost = 0\n",
        "\n",
        "    # Step 3: Loop through the dictionary and ask the user how many of each fruit they want to buy\n",
        "    for fruit_name in fruits:\n",
        "        price = fruits[fruit_name]  # Get the price for the current fruit\n",
        "\n",
        "        # Ask the user for the quantity they want to buy\n",
        "        amount_bought = int(input(\"How many (\" + fruit_name + \") do you want to buy?: \"))\n",
        "\n",
        "        # Add the cost of the current fruit to the total cost\n",
        "        total_cost += (price * amount_bought)\n",
        "\n",
        "    # Step 4: Print the total cost\n",
        "    print(\"Your total is $\" + str(total_cost))  # Convert total cost to string and print\n",
        "\n",
        "# Step 5: This is the standard Python boilerplate to call the main function\n",
        "if __name__ == '__main__':\n",
        "    main()\n"
      ]
    },
    {
      "cell_type": "code",
      "source": [],
      "metadata": {
        "id": "t2umbhmdbFE9"
      },
      "execution_count": null,
      "outputs": []
    }
  ]
}