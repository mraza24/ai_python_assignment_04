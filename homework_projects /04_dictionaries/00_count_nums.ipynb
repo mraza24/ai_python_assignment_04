{
  "nbformat": 4,
  "nbformat_minor": 0,
  "metadata": {
    "colab": {
      "provenance": [],
      "authorship_tag": "ABX9TyOBbH6N7QzE8I7ofZjQtz5+",
      "include_colab_link": true
    },
    "kernelspec": {
      "name": "python3",
      "display_name": "Python 3"
    },
    "language_info": {
      "name": "python"
    }
  },
  "cells": [
    {
      "cell_type": "markdown",
      "metadata": {
        "id": "view-in-github",
        "colab_type": "text"
      },
      "source": [
        "<a href=\"https://colab.research.google.com/github/mraza24/ai_python_assignment_04/blob/main/homework_projects%20/04_dictionaries/00_count_nums.ipynb\" target=\"_parent\"><img src=\"https://colab.research.google.com/assets/colab-badge.svg\" alt=\"Open In Colab\"/></a>"
      ]
    },
    {
      "cell_type": "code",
      "execution_count": null,
      "metadata": {
        "colab": {
          "base_uri": "https://localhost:8080/"
        },
        "id": "iPRk_vhpUkGS",
        "outputId": "20b2c3c3-9507-44b0-e86e-26ea1b420b13"
      },
      "outputs": [
        {
          "output_type": "stream",
          "name": "stdout",
          "text": [
            "Enter a number: 0\n",
            "Enter a number: 3\n",
            "Enter a number: 4\n",
            "Enter a number: 2\n",
            "Enter a number: 2\n",
            "Enter a number: 7\n",
            "Enter a number: 5\n",
            "Enter a number: 7\n",
            "Enter a number: 6\n",
            "Enter a number: 6\n",
            "Enter a number: 1\n",
            "Enter a number: \n",
            "0 appears 1 times.\n",
            "3 appears 1 times.\n",
            "4 appears 1 times.\n",
            "2 appears 2 times.\n",
            "7 appears 2 times.\n",
            "5 appears 1 times.\n",
            "6 appears 2 times.\n",
            "1 appears 1 times.\n"
          ]
        }
      ],
      "source": [
        "def get_user_numbers():\n",
        "    \"\"\"\n",
        "    Create an empty list.\n",
        "    Ask the user to input numbers and store them in a list.\n",
        "    Once they enter a blank line, break out of the loop and return the list.\n",
        "    \"\"\"\n",
        "    user_numbers = []  # List to store user input numbers\n",
        "    while True:\n",
        "        user_input = input(\"Enter a number: \")  # Prompt user for a number\n",
        "        if user_input == \"\":  # Check if user entered a blank line\n",
        "            break  # Stop the loop if blank line is entered\n",
        "        num = int(user_input)  # Convert the input to an integer\n",
        "        user_numbers.append(num)  # Add the number to the list\n",
        "    return user_numbers  # Return the list of numbers\n",
        "\n",
        "def count_nums(num_lst):\n",
        "    \"\"\"\n",
        "    Create an empty dictionary.\n",
        "    Loop over the list of numbers.\n",
        "    If the number is not in the dictionary, add it as a key with a value of 1.\n",
        "    If the number is in the dictionary, increment its value by 1.\n",
        "    \"\"\"\n",
        "    num_dict = {}  # Dictionary to store counts of numbers\n",
        "    for num in num_lst:\n",
        "        if num not in num_dict:  # If the number is not in the dictionary\n",
        "            num_dict[num] = 1  # Add the number with count 1\n",
        "        else:\n",
        "            num_dict[num] += 1  # Increment the count if the number already exists\n",
        "    return num_dict  # Return the dictionary of counts\n",
        "\n",
        "def print_counts(num_dict):\n",
        "    \"\"\"\n",
        "    Loop over the dictionary and print out each key and its value.\n",
        "    \"\"\"\n",
        "    for num in num_dict:  # Loop through the dictionary\n",
        "        print(f\"{num} appears {num_dict[num]} times.\")  # Print the number and its count\n",
        "\n",
        "def main():\n",
        "    \"\"\"\n",
        "    Ask the user to input numbers and store them in a list. Once they enter a blank line,\n",
        "    print out the number of times each number appeared in the list.\n",
        "    \"\"\"\n",
        "    user_numbers = get_user_numbers()  # Get the list of numbers\n",
        "    num_dict = count_nums(user_numbers)  # Count the occurrences of each number\n",
        "    print_counts(num_dict)  # Print the counts\n",
        "\n",
        "if __name__ == '__main__':\n",
        "    main()"
      ]
    },
    {
      "cell_type": "code",
      "source": [],
      "metadata": {
        "id": "yWTlwb9tVQtv"
      },
      "execution_count": null,
      "outputs": []
    }
  ]
}