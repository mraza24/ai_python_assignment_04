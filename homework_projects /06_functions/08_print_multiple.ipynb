{
  "nbformat": 4,
  "nbformat_minor": 0,
  "metadata": {
    "colab": {
      "provenance": [],
      "authorship_tag": "ABX9TyOnYrEGB3KaIjhgIDJuT5Zk",
      "include_colab_link": true
    },
    "kernelspec": {
      "name": "python3",
      "display_name": "Python 3"
    },
    "language_info": {
      "name": "python"
    }
  },
  "cells": [
    {
      "cell_type": "markdown",
      "metadata": {
        "id": "view-in-github",
        "colab_type": "text"
      },
      "source": [
        "<a href=\"https://colab.research.google.com/github/mraza24/ai_python_assignment_04/blob/main/homework_projects%20/06_functions/08_print_multiple.ipynb\" target=\"_parent\"><img src=\"https://colab.research.google.com/assets/colab-badge.svg\" alt=\"Open In Colab\"/></a>"
      ]
    },
    {
      "cell_type": "code",
      "execution_count": null,
      "metadata": {
        "colab": {
          "base_uri": "https://localhost:8080/"
        },
        "id": "wjIZiR0NgIpo",
        "outputId": "3ab5c753-ab93-401f-f69c-1495c11437cb"
      },
      "outputs": [
        {
          "output_type": "stream",
          "name": "stdout",
          "text": [
            "Please type a message: \"Hello\"\n",
            "Enter a number of times to repeat your message: 6\n",
            "\"Hello\"\n",
            "\"Hello\"\n",
            "\"Hello\"\n",
            "\"Hello\"\n",
            "\"Hello\"\n",
            "\"Hello\"\n"
          ]
        }
      ],
      "source": [
        "def print_multiple(message: str, repeats: int):\n",
        "    \"\"\"\n",
        "    This function takes a message (string) and repeats it a specified number of times.\n",
        "    It prints the message the given number of times.\n",
        "    \"\"\"\n",
        "    for i in range(repeats):  # Loop to print the message 'repeats' number of times\n",
        "        print(message)\n",
        "\n",
        "def main():\n",
        "    \"\"\"\n",
        "    This function gets the user input for a message and a number of repeats.\n",
        "    It then calls the print_multiple function to print the message the specified number of times.\n",
        "    \"\"\"\n",
        "    message = input(\"Please type a message: \")  # Get the message from the user\n",
        "    repeats = int(input(\"Enter a number of times to repeat your message: \"))  # Get the number of repeats and convert it to an integer\n",
        "    print_multiple(message, repeats)  # Call print_multiple with the user inputs\n",
        "\n",
        "# This block ensures that main() is called when the script is executed directly\n",
        "if __name__ == '__main__':\n",
        "    main()\n"
      ]
    },
    {
      "cell_type": "code",
      "source": [],
      "metadata": {
        "id": "tg7TCLYSgcbj"
      },
      "execution_count": null,
      "outputs": []
    }
  ]
}