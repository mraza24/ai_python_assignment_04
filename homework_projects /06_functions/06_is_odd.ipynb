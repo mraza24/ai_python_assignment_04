{
  "nbformat": 4,
  "nbformat_minor": 0,
  "metadata": {
    "colab": {
      "provenance": [],
      "authorship_tag": "ABX9TyMZM7Gv5+2nu7sBb5v7sRmt",
      "include_colab_link": true
    },
    "kernelspec": {
      "name": "python3",
      "display_name": "Python 3"
    },
    "language_info": {
      "name": "python"
    }
  },
  "cells": [
    {
      "cell_type": "markdown",
      "metadata": {
        "id": "view-in-github",
        "colab_type": "text"
      },
      "source": [
        "<a href=\"https://colab.research.google.com/github/mraza24/ai_python_assignment_04/blob/main/homework_projects%20/06_functions/06_is_odd.ipynb\" target=\"_parent\"><img src=\"https://colab.research.google.com/assets/colab-badge.svg\" alt=\"Open In Colab\"/></a>"
      ]
    },
    {
      "cell_type": "code",
      "execution_count": null,
      "metadata": {
        "colab": {
          "base_uri": "https://localhost:8080/"
        },
        "id": "d9Ml6fHYdZU9",
        "outputId": "20b58fae-ef81-4271-90b1-11fb910ea030"
      },
      "outputs": [
        {
          "output_type": "stream",
          "name": "stdout",
          "text": [
            "10 even\n",
            "11 odd\n",
            "12 even\n",
            "13 odd\n",
            "14 even\n",
            "15 odd\n",
            "16 even\n",
            "17 odd\n",
            "18 even\n",
            "19 odd\n"
          ]
        }
      ],
      "source": [
        "# Helper function to check if a number is odd\n",
        "def is_odd(value: int):\n",
        "    \"\"\"\n",
        "    Checks to see if a value is odd. Returns True if it is odd, otherwise False.\n",
        "    \"\"\"\n",
        "    remainder = value % 2  # 0 if divisible by 2, 1 if not\n",
        "    return remainder == 1  # True if remainder is 1 (odd), False if 0 (even)\n",
        "\n",
        "# Main function to print even or odd for numbers from 10 to 19\n",
        "def main():\n",
        "    for i in range(10, 20):  # Loop through numbers from 10 to 19\n",
        "        if is_odd(i):\n",
        "            print(f\"{i} odd\")  # If the number is odd, print odd\n",
        "        else:\n",
        "            print(f\"{i} even\")  # If the number is even, print even\n",
        "\n",
        "if __name__ == '__main__':\n",
        "    main()\n"
      ]
    },
    {
      "cell_type": "code",
      "source": [],
      "metadata": {
        "id": "WZPPwa1leE0a"
      },
      "execution_count": null,
      "outputs": []
    }
  ]
}