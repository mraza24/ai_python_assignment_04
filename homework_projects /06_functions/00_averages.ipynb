{
  "nbformat": 4,
  "nbformat_minor": 0,
  "metadata": {
    "colab": {
      "provenance": [],
      "authorship_tag": "ABX9TyPXMgQNA+1oeOfQvIAPTf9r",
      "include_colab_link": true
    },
    "kernelspec": {
      "name": "python3",
      "display_name": "Python 3"
    },
    "language_info": {
      "name": "python"
    }
  },
  "cells": [
    {
      "cell_type": "markdown",
      "metadata": {
        "id": "view-in-github",
        "colab_type": "text"
      },
      "source": [
        "<a href=\"https://colab.research.google.com/github/mraza24/ai_python_assignment_04/blob/main/homework_projects%20/06_functions/00_averages.ipynb\" target=\"_parent\"><img src=\"https://colab.research.google.com/assets/colab-badge.svg\" alt=\"Open In Colab\"/></a>"
      ]
    },
    {
      "cell_type": "code",
      "execution_count": null,
      "metadata": {
        "colab": {
          "base_uri": "https://localhost:8080/"
        },
        "id": "d8YsyDEDRlfm",
        "outputId": "58a0360d-3544-400f-9700-07cf4c78812b"
      },
      "outputs": [
        {
          "output_type": "stream",
          "name": "stdout",
          "text": [
            "avg_1: 5.0\n",
            "avg_2: 9.0\n",
            "final: 7.0\n"
          ]
        }
      ],
      "source": [
        "# Function to calculate the average between two numbers\n",
        "def average(a: float, b: float) -> float:\n",
        "    \"\"\"\n",
        "    This function takes two numbers as input and returns their average.\n",
        "    The average is calculated by adding the two numbers and dividing by 2.\n",
        "    \"\"\"\n",
        "    # Calculate the sum of a and b\n",
        "    total = a + b\n",
        "\n",
        "    # Return the average by dividing the total by 2\n",
        "    return total / 2\n",
        "\n",
        "# Main function to call the average function and print results\n",
        "def main():\n",
        "    # Calling the average function with two numbers (0 and 10)\n",
        "    avg_1 = average(0, 10)\n",
        "\n",
        "    # Calling the average function with two numbers (8 and 10)\n",
        "    avg_2 = average(8, 10)\n",
        "\n",
        "    # Calling the average function with the averages we got above\n",
        "    final = average(avg_1, avg_2)\n",
        "\n",
        "    # Print the intermediate averages and the final average\n",
        "    print(\"avg_1:\", avg_1)  # Average of 0 and 10\n",
        "    print(\"avg_2:\", avg_2)  # Average of 8 and 10\n",
        "    print(\"final:\", final)  # Average of avg_1 and avg_2\n",
        "\n",
        "# This line ensures the main function is called when running the script\n",
        "if __name__ == '__main__':\n",
        "    main()\n"
      ]
    },
    {
      "cell_type": "code",
      "source": [],
      "metadata": {
        "id": "sEVCQM-URx2C"
      },
      "execution_count": null,
      "outputs": []
    }
  ]
}