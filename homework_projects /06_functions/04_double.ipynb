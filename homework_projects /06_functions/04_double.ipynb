{
  "nbformat": 4,
  "nbformat_minor": 0,
  "metadata": {
    "colab": {
      "provenance": [],
      "authorship_tag": "ABX9TyPZwjpoyIGH2iVyJEqx3hyd",
      "include_colab_link": true
    },
    "kernelspec": {
      "name": "python3",
      "display_name": "Python 3"
    },
    "language_info": {
      "name": "python"
    }
  },
  "cells": [
    {
      "cell_type": "markdown",
      "metadata": {
        "id": "view-in-github",
        "colab_type": "text"
      },
      "source": [
        "<a href=\"https://colab.research.google.com/github/mraza24/ai_python_assignment_04/blob/main/homework_projects%20/06_functions/04_double.ipynb\" target=\"_parent\"><img src=\"https://colab.research.google.com/assets/colab-badge.svg\" alt=\"Open In Colab\"/></a>"
      ]
    },
    {
      "cell_type": "code",
      "execution_count": null,
      "metadata": {
        "colab": {
          "base_uri": "https://localhost:8080/"
        },
        "id": "Ng9FXSEiaitT",
        "outputId": "a25bf9f0-87f8-4f55-801c-372294f90824"
      },
      "outputs": [
        {
          "output_type": "stream",
          "name": "stdout",
          "text": [
            "Enter a number: 2\n",
            "Double that is 4\n"
          ]
        }
      ],
      "source": [
        "# Function to double the number\n",
        "def double(num: int):\n",
        "    return num * 2  # Multiply the input number by 2 and return the result\n",
        "\n",
        "# Main function to run the program\n",
        "def main():\n",
        "    num = int(input(\"Enter a number: \"))  # Ask the user for a number and convert it to an integer\n",
        "    num_times_2 = double(num)  # Call the double function to get the result\n",
        "    print(\"Double that is\", num_times_2)  # Print the result\n",
        "\n",
        "if __name__ == '__main__':\n",
        "    main()\n"
      ]
    },
    {
      "cell_type": "code",
      "source": [],
      "metadata": {
        "id": "QGxuwRsma4UI"
      },
      "execution_count": null,
      "outputs": []
    }
  ]
}