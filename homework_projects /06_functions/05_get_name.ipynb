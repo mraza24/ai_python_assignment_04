{
  "nbformat": 4,
  "nbformat_minor": 0,
  "metadata": {
    "colab": {
      "provenance": [],
      "authorship_tag": "ABX9TyOHTaGiHrEQwO/RBILLg78f",
      "include_colab_link": true
    },
    "kernelspec": {
      "name": "python3",
      "display_name": "Python 3"
    },
    "language_info": {
      "name": "python"
    }
  },
  "cells": [
    {
      "cell_type": "markdown",
      "metadata": {
        "id": "view-in-github",
        "colab_type": "text"
      },
      "source": [
        "<a href=\"https://colab.research.google.com/github/mraza24/ai_python_assignment_04/blob/main/homework_projects%20/06_functions/05_get_name.ipynb\" target=\"_parent\"><img src=\"https://colab.research.google.com/assets/colab-badge.svg\" alt=\"Open In Colab\"/></a>"
      ]
    },
    {
      "cell_type": "code",
      "execution_count": null,
      "metadata": {
        "colab": {
          "base_uri": "https://localhost:8080/"
        },
        "id": "i82yalMKb6QX",
        "outputId": "f45c068b-8c0b-4862-e26c-bd0901ebe3a4"
      },
      "outputs": [
        {
          "output_type": "stream",
          "name": "stdout",
          "text": [
            "Howdy Sophia ! 🤠\n"
          ]
        }
      ],
      "source": [
        "# Function to return the name\n",
        "def get_name():\n",
        "    return \"Sophia\"  # Return the string \"Sophia\"\n",
        "\n",
        "# Main function that calls get_name() and prints a greeting\n",
        "def main():\n",
        "    name = get_name()  # Call get_name() and store the result in 'name'\n",
        "    print(\"Howdy\", name, \"! 🤠\")  # Print the greeting with the name\n",
        "\n",
        "if __name__ == '__main__':\n",
        "    main()\n"
      ]
    },
    {
      "cell_type": "code",
      "source": [],
      "metadata": {
        "id": "bXxSgOd9cc8G"
      },
      "execution_count": null,
      "outputs": []
    }
  ]
}