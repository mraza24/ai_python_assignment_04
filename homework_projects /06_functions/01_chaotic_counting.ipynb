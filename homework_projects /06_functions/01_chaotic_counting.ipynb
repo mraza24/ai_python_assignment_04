{
  "nbformat": 4,
  "nbformat_minor": 0,
  "metadata": {
    "colab": {
      "provenance": [],
      "authorship_tag": "ABX9TyOPowRSTGgqpxAZCiXuck+8",
      "include_colab_link": true
    },
    "kernelspec": {
      "name": "python3",
      "display_name": "Python 3"
    },
    "language_info": {
      "name": "python"
    }
  },
  "cells": [
    {
      "cell_type": "markdown",
      "metadata": {
        "id": "view-in-github",
        "colab_type": "text"
      },
      "source": [
        "<a href=\"https://colab.research.google.com/github/mraza24/ai_python_assignment_04/blob/main/homework_projects%20/06_functions/01_chaotic_counting.ipynb\" target=\"_parent\"><img src=\"https://colab.research.google.com/assets/colab-badge.svg\" alt=\"Open In Colab\"/></a>"
      ]
    },
    {
      "cell_type": "code",
      "execution_count": null,
      "metadata": {
        "colab": {
          "base_uri": "https://localhost:8080/"
        },
        "id": "fHL-cF34SYgE",
        "outputId": "256a2078-80c6-4e38-ad6b-ab8990140f22"
      },
      "outputs": [
        {
          "output_type": "stream",
          "name": "stdout",
          "text": [
            "I'm going to count until 10 or until I feel like stopping, whichever comes first.\n",
            "1\n",
            "I'm done\n"
          ]
        }
      ],
      "source": [
        "import random\n",
        "\n",
        "# The likelihood (probability) that done() will return True\n",
        "DONE_LIKELIHOOD = 0.3  # Adjust this value as needed (e.g., 0.3 means 30% chance)\n",
        "\n",
        "# This function checks whether we should stop counting or not\n",
        "def done():\n",
        "    \"\"\"Returns True with a probability of DONE_LIKELIHOOD.\"\"\"\n",
        "    if random.random() < DONE_LIKELIHOOD:\n",
        "        return True\n",
        "    return False\n",
        "\n",
        "# This function does the counting, with checks to see if we should stop\n",
        "def chaotic_counting():\n",
        "    for i in range(10):  # Loop from 0 to 9, for counting 1 to 10\n",
        "        curr_num = i + 1  # Adjust to print numbers starting from 1\n",
        "        if done():  # Check if we should stop early\n",
        "            return  # If done() returns True, we stop the function execution\n",
        "        print(curr_num)  # Print the current number if done() returned False\n",
        "\n",
        "# Main function to control the flow of the program\n",
        "def main():\n",
        "    print(\"I'm going to count until 10 or until I feel like stopping, whichever comes first.\")\n",
        "    chaotic_counting()  # Call the counting function\n",
        "    print(\"I'm done\")  # Once chaotic_counting() finishes, print \"I'm done\"\n",
        "\n",
        "if __name__ == \"__main__\":\n",
        "    main()\n"
      ]
    },
    {
      "cell_type": "code",
      "source": [],
      "metadata": {
        "id": "7pXfHtYHSsnF"
      },
      "execution_count": null,
      "outputs": []
    }
  ]
}