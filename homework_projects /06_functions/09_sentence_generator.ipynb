{
  "nbformat": 4,
  "nbformat_minor": 0,
  "metadata": {
    "colab": {
      "provenance": [],
      "authorship_tag": "ABX9TyO0A2KutXSXsd2kdJhB1Twu",
      "include_colab_link": true
    },
    "kernelspec": {
      "name": "python3",
      "display_name": "Python 3"
    },
    "language_info": {
      "name": "python"
    }
  },
  "cells": [
    {
      "cell_type": "markdown",
      "metadata": {
        "id": "view-in-github",
        "colab_type": "text"
      },
      "source": [
        "<a href=\"https://colab.research.google.com/github/mraza24/ai_python_assignment_04/blob/main/homework_projects%20/06_functions/09_sentence_generator.ipynb\" target=\"_parent\"><img src=\"https://colab.research.google.com/assets/colab-badge.svg\" alt=\"Open In Colab\"/></a>"
      ]
    },
    {
      "cell_type": "code",
      "execution_count": null,
      "metadata": {
        "colab": {
          "base_uri": "https://localhost:8080/"
        },
        "id": "xgC16CRAjeYK",
        "outputId": "1568d312-f0d7-4a7a-b79f-26cd19d147af"
      },
      "outputs": [
        {
          "output_type": "stream",
          "name": "stdout",
          "text": [
            "Please type a noun, verb, or adjective: book\n",
            "Is this a noun, verb, or adjective?\n",
            "Type 0 for noun, 1 for verb, 2 for adjective: 0\n",
            "I am excited to add this book to my vast collection of them!\n"
          ]
        }
      ],
      "source": [
        "def make_sentence(word, part_of_speech):\n",
        "    \"\"\"\n",
        "    This function takes a word and its part of speech, and prints a sentence accordingly.\n",
        "    \"\"\"\n",
        "    if part_of_speech == 0:\n",
        "        # noun\n",
        "        print(\"I am excited to add this \" + word + \" to my vast collection of them!\")\n",
        "    elif part_of_speech == 1:\n",
        "        # verb\n",
        "        print(\"It's so nice outside today it makes me want to \" + word + \"!\")\n",
        "    elif part_of_speech == 2:\n",
        "        # adjective\n",
        "        print(\"Looking out my window, the sky is big and \" + word + \"!\")\n",
        "    else:\n",
        "        # Invalid part_of_speech\n",
        "        print(\"Part of speech must be 0, 1, or 2! Can't make a sentence.\")\n",
        "\n",
        "def main():\n",
        "    \"\"\"\n",
        "    This function prompts the user to input a word and its part of speech,\n",
        "    then calls the make_sentence function to print the correct sentence.\n",
        "    \"\"\"\n",
        "    word = input(\"Please type a noun, verb, or adjective: \")  # Get the word from the user\n",
        "    print(\"Is this a noun, verb, or adjective?\")\n",
        "    part_of_speech = int(input(\"Type 0 for noun, 1 for verb, 2 for adjective: \"))  # Get the part of speech (as an integer)\n",
        "    make_sentence(word, part_of_speech)  # Call make_sentence to generate the sentence\n",
        "\n",
        "# This block ensures that main() is called when the script is executed directly\n",
        "if __name__ == '__main__':\n",
        "    main()\n"
      ]
    },
    {
      "cell_type": "code",
      "source": [],
      "metadata": {
        "id": "mHvsw2Ikjpz8"
      },
      "execution_count": null,
      "outputs": []
    }
  ]
}