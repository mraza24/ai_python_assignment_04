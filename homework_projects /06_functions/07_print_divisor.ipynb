{
  "nbformat": 4,
  "nbformat_minor": 0,
  "metadata": {
    "colab": {
      "provenance": [],
      "authorship_tag": "ABX9TyM1G1TsuEceRmO+sX05rJh1",
      "include_colab_link": true
    },
    "kernelspec": {
      "name": "python3",
      "display_name": "Python 3"
    },
    "language_info": {
      "name": "python"
    }
  },
  "cells": [
    {
      "cell_type": "markdown",
      "metadata": {
        "id": "view-in-github",
        "colab_type": "text"
      },
      "source": [
        "<a href=\"https://colab.research.google.com/github/mraza24/ai_python_assignment_04/blob/main/homework_projects%20/06_functions/07_print_divisor.ipynb\" target=\"_parent\"><img src=\"https://colab.research.google.com/assets/colab-badge.svg\" alt=\"Open In Colab\"/></a>"
      ]
    },
    {
      "cell_type": "code",
      "execution_count": null,
      "metadata": {
        "colab": {
          "base_uri": "https://localhost:8080/"
        },
        "id": "F-1yeO2he9ZY",
        "outputId": "07c241d0-d202-4af7-f4ea-98ca7b62ab9a"
      },
      "outputs": [
        {
          "output_type": "stream",
          "name": "stdout",
          "text": [
            "Enter a number: 12\n",
            "Here are the divisors of 12\n",
            "1\n",
            "2\n",
            "3\n",
            "4\n",
            "6\n",
            "12\n"
          ]
        }
      ],
      "source": [
        "def print_divisors(num: int):\n",
        "    \"\"\"\n",
        "    This function takes an integer 'num' and prints all of its divisors.\n",
        "    A divisor is any number from 1 to 'num' that divides 'num' with no remainder.\n",
        "    \"\"\"\n",
        "    print(\"Here are the divisors of\", num)  # Print the header\n",
        "    for i in range(1, num + 1):  # Loop through all numbers from 1 to 'num'\n",
        "        if num % i == 0:  # Check if 'i' divides 'num' with no remainder\n",
        "            print(i)  # Print the divisor\n",
        "\n",
        "def main():\n",
        "    \"\"\"\n",
        "    Main function that asks the user for a number and prints its divisors.\n",
        "    \"\"\"\n",
        "    num = int(input(\"Enter a number: \"))  # Prompt the user for input and convert it to an integer\n",
        "    print_divisors(num)  # Call the print_divisors function to print divisors of the number\n",
        "\n",
        "if __name__ == '__main__':\n",
        "    main()\n"
      ]
    },
    {
      "cell_type": "code",
      "source": [],
      "metadata": {
        "id": "8AxP4uxwfT95"
      },
      "execution_count": null,
      "outputs": []
    }
  ]
}