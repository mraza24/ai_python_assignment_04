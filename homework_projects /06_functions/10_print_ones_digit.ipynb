{
  "nbformat": 4,
  "nbformat_minor": 0,
  "metadata": {
    "colab": {
      "provenance": [],
      "authorship_tag": "ABX9TyMshhr7mCluS3m7XtWeKIDA",
      "include_colab_link": true
    },
    "kernelspec": {
      "name": "python3",
      "display_name": "Python 3"
    },
    "language_info": {
      "name": "python"
    }
  },
  "cells": [
    {
      "cell_type": "markdown",
      "metadata": {
        "id": "view-in-github",
        "colab_type": "text"
      },
      "source": [
        "<a href=\"https://colab.research.google.com/github/mraza24/ai_python_assignment_04/blob/main/homework_projects%20/06_functions/10_print_ones_digit.ipynb\" target=\"_parent\"><img src=\"https://colab.research.google.com/assets/colab-badge.svg\" alt=\"Open In Colab\"/></a>"
      ]
    },
    {
      "cell_type": "code",
      "execution_count": null,
      "metadata": {
        "colab": {
          "base_uri": "https://localhost:8080/"
        },
        "id": "c2z2p2XqkNdo",
        "outputId": "3718eef7-1003-486d-d412-ea4eb8cb5044"
      },
      "outputs": [
        {
          "output_type": "stream",
          "name": "stdout",
          "text": [
            "Enter a number: 42\n",
            "The ones digit is 2\n"
          ]
        }
      ],
      "source": [
        "def print_ones_digit(num):\n",
        "    \"\"\"\n",
        "    This function prints the ones digit of the given number.\n",
        "    It does so by using the modulo operator to find the remainder when\n",
        "    the number is divided by 10.\n",
        "    \"\"\"\n",
        "    # Calculate the ones digit using the modulo operation\n",
        "    print(\"The ones digit is\", num % 10)  # Print the ones digit\n",
        "\n",
        "def main():\n",
        "    \"\"\"\n",
        "    This function prompts the user to enter a number and calls the\n",
        "    print_ones_digit function to print the ones digit.\n",
        "    \"\"\"\n",
        "    # Ask the user to input a number and convert it to an integer\n",
        "    num = int(input(\"Enter a number: \"))\n",
        "\n",
        "    # Call the function to print the ones digit\n",
        "    print_ones_digit(num)\n",
        "\n",
        "\n",
        "if __name__ == '__main__':\n",
        "    main()\n"
      ]
    },
    {
      "cell_type": "code",
      "source": [],
      "metadata": {
        "id": "cjJHh1WplHhM"
      },
      "execution_count": null,
      "outputs": []
    }
  ]
}