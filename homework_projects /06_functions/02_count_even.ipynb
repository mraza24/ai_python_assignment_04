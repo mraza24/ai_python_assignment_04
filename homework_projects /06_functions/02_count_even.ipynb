{
  "nbformat": 4,
  "nbformat_minor": 0,
  "metadata": {
    "colab": {
      "provenance": [],
      "authorship_tag": "ABX9TyON2LUOXNKLM355rlw7rMCw",
      "include_colab_link": true
    },
    "kernelspec": {
      "name": "python3",
      "display_name": "Python 3"
    },
    "language_info": {
      "name": "python"
    }
  },
  "cells": [
    {
      "cell_type": "markdown",
      "metadata": {
        "id": "view-in-github",
        "colab_type": "text"
      },
      "source": [
        "<a href=\"https://colab.research.google.com/github/mraza24/ai_python_assignment_04/blob/main/homework_projects%20/06_functions/02_count_even.ipynb\" target=\"_parent\"><img src=\"https://colab.research.google.com/assets/colab-badge.svg\" alt=\"Open In Colab\"/></a>"
      ]
    },
    {
      "cell_type": "code",
      "execution_count": null,
      "metadata": {
        "colab": {
          "base_uri": "https://localhost:8080/"
        },
        "id": "9c4-MdDlY_P1",
        "outputId": "46a85a0e-486f-480f-a3d4-c08332fbb180"
      },
      "outputs": [
        {
          "output_type": "stream",
          "name": "stdout",
          "text": [
            "Enter an integer or press enter to stop: 5\n",
            "Enter an integer or press enter to stop: 12\n",
            "Enter an integer or press enter to stop: \n",
            "Number of even numbers: 1\n"
          ]
        }
      ],
      "source": [
        "# Function to get a list of integers from the user\n",
        "def get_list_of_ints():\n",
        "    \"\"\"\n",
        "    Reads in integers until the user presses enter and returns the resulting list.\n",
        "    \"\"\"\n",
        "    lst = []  # Initialize an empty list to store the integers.\n",
        "    user_input = input(\"Enter an integer or press enter to stop: \")  # Prompt for the first input.\n",
        "\n",
        "    # Loop until the user presses Enter without typing anything.\n",
        "    while user_input != \"\":  # If the input is not an empty string (i.e., user entered something).\n",
        "        lst.append(int(user_input))  # Convert the input to an integer and add it to the list.\n",
        "        user_input = input(\"Enter an integer or press enter to stop: \")  # Ask for another input.\n",
        "\n",
        "    return lst  # Return the list of integers after the user stops inputting.\n",
        "\n",
        "# Function to count the even numbers in a list.\n",
        "def count_even(lst):\n",
        "    \"\"\"\n",
        "    Returns the number of even numbers in the list.\n",
        "    \"\"\"\n",
        "    count = 0  # Initialize the count of even numbers.\n",
        "\n",
        "    for num in lst:  # Loop through each number in the list.\n",
        "        if num % 2 == 0:  # If the number is even (i.e., divisible by 2).\n",
        "            count += 1  # Increment the count for even numbers.\n",
        "\n",
        "    print(\"Number of even numbers:\", count)  # Print the count of even numbers.\n",
        "\n",
        "# Main function to execute the program.\n",
        "def main():\n",
        "    # Get the list of integers from the user.\n",
        "    lst = get_list_of_ints()\n",
        "\n",
        "    # Count and print the number of even numbers in the list.\n",
        "    count_even(lst)\n",
        "\n",
        "if __name__ == '__main__':\n",
        "    main()\n"
      ]
    },
    {
      "cell_type": "code",
      "source": [],
      "metadata": {
        "id": "hAQH_dsGZHRn"
      },
      "execution_count": null,
      "outputs": []
    }
  ]
}