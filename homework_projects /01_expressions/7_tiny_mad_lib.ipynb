{
  "nbformat": 4,
  "nbformat_minor": 0,
  "metadata": {
    "colab": {
      "provenance": [],
      "authorship_tag": "ABX9TyMP3PYtajKgKgbfw1rloKk3",
      "include_colab_link": true
    },
    "kernelspec": {
      "name": "python3",
      "display_name": "Python 3"
    },
    "language_info": {
      "name": "python"
    }
  },
  "cells": [
    {
      "cell_type": "markdown",
      "metadata": {
        "id": "view-in-github",
        "colab_type": "text"
      },
      "source": [
        "<a href=\"https://colab.research.google.com/github/mraza24/ai_python_assignment_04/blob/main/homework_projects%20/01_expressions/7_tiny_mad_lib.ipynb\" target=\"_parent\"><img src=\"https://colab.research.google.com/assets/colab-badge.svg\" alt=\"Open In Colab\"/></a>"
      ]
    },
    {
      "cell_type": "code",
      "execution_count": null,
      "metadata": {
        "colab": {
          "base_uri": "https://localhost:8080/"
        },
        "id": "-kJbgg-G9tao",
        "outputId": "12f45610-3268-41d3-c834-421717f723e3"
      },
      "outputs": [
        {
          "output_type": "stream",
          "name": "stdout",
          "text": [
            "Please type an adjective and press enter: glowing\n",
            "Please type a noun and press enter: robot\n",
            "Please type a verb and press enter: dance\n",
            "Panaversity is fun. I learned to program and used Python to make my glowing robot dance!\n"
          ]
        }
      ],
      "source": [
        "# Starting part of the sentence\n",
        "SENTENCE_START = \"Panaversity is fun. I learned to program and used Python to make my \"\n",
        "\n",
        "def main():\n",
        "    # Ask the user for words\n",
        "    adjective = input(\"Please type an adjective and press enter: \")\n",
        "    noun = input(\"Please type a noun and press enter: \")\n",
        "    verb = input(\"Please type a verb and press enter: \")\n",
        "\n",
        "    # Create the full sentence\n",
        "    full_sentence = SENTENCE_START + adjective + \" \" + noun + \" \" + verb + \"!\"\n",
        "\n",
        "    # Print the final output\n",
        "    print(full_sentence)\n",
        "\n",
        "# Required to run the main function\n",
        "if __name__ == '__main__':\n",
        "    main()\n"
      ]
    },
    {
      "cell_type": "code",
      "source": [],
      "metadata": {
        "id": "CzYsJurD95i1"
      },
      "execution_count": null,
      "outputs": []
    }
  ]
}