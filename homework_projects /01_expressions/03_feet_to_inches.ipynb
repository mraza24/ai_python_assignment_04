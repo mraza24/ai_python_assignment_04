{
  "nbformat": 4,
  "nbformat_minor": 0,
  "metadata": {
    "colab": {
      "provenance": [],
      "authorship_tag": "ABX9TyMI++MvZcsa7lP4VE+8P1/P",
      "include_colab_link": true
    },
    "kernelspec": {
      "name": "python3",
      "display_name": "Python 3"
    },
    "language_info": {
      "name": "python"
    }
  },
  "cells": [
    {
      "cell_type": "markdown",
      "metadata": {
        "id": "view-in-github",
        "colab_type": "text"
      },
      "source": [
        "<a href=\"https://colab.research.google.com/github/mraza24/ai_python_assignment_04/blob/main/homework_projects%20/01_expressions/03_feet_to_inches.ipynb\" target=\"_parent\"><img src=\"https://colab.research.google.com/assets/colab-badge.svg\" alt=\"Open In Colab\"/></a>"
      ]
    },
    {
      "cell_type": "code",
      "execution_count": null,
      "metadata": {
        "colab": {
          "base_uri": "https://localhost:8080/"
        },
        "id": "s46o7dFaj1Ww",
        "outputId": "a362e501-6415-48cc-d70a-a66fda4ddbae"
      },
      "outputs": [
        {
          "output_type": "stream",
          "name": "stdout",
          "text": [
            "Enter number of feet: 5\n",
            "That is 60.0 inches!\n"
          ]
        }
      ],
      "source": [
        "# Constant for the conversion factor\n",
        "INCHES_IN_FOOT: int = 12  # There are 12 inches in 1 foot\n",
        "\n",
        "def main():\n",
        "    # Prompt the user to enter the number of feet\n",
        "    feet: float = float(input(\"Enter number of feet: \"))\n",
        "\n",
        "    # Convert feet to inches\n",
        "    inches: float = feet * INCHES_IN_FOOT\n",
        "\n",
        "    # Print the result\n",
        "    print(f\"That is {inches} inches!\")\n",
        "\n",
        "# This provided line is required to call the main() function\n",
        "if __name__ == '__main__':\n",
        "    main()\n",
        "\n"
      ]
    },
    {
      "cell_type": "code",
      "source": [],
      "metadata": {
        "id": "hH87jE4RkQkv"
      },
      "execution_count": null,
      "outputs": []
    }
  ]
}