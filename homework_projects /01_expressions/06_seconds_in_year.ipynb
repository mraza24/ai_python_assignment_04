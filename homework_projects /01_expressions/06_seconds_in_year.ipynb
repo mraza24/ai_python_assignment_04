{
  "nbformat": 4,
  "nbformat_minor": 0,
  "metadata": {
    "colab": {
      "provenance": [],
      "authorship_tag": "ABX9TyNFgdrAtPFOStAv5vDcQ+wk",
      "include_colab_link": true
    },
    "kernelspec": {
      "name": "python3",
      "display_name": "Python 3"
    },
    "language_info": {
      "name": "python"
    }
  },
  "cells": [
    {
      "cell_type": "markdown",
      "metadata": {
        "id": "view-in-github",
        "colab_type": "text"
      },
      "source": [
        "<a href=\"https://colab.research.google.com/github/mraza24/ai_python_assignment_04/blob/main/homework_projects%20/01_expressions/06_seconds_in_year.ipynb\" target=\"_parent\"><img src=\"https://colab.research.google.com/assets/colab-badge.svg\" alt=\"Open In Colab\"/></a>"
      ]
    },
    {
      "cell_type": "code",
      "execution_count": null,
      "metadata": {
        "colab": {
          "base_uri": "https://localhost:8080/"
        },
        "id": "Z8jc1iAP3s18",
        "outputId": "bf42c4d8-fc2b-431d-d992-d7a40a7f9967"
      },
      "outputs": [
        {
          "output_type": "stream",
          "name": "stdout",
          "text": [
            "There are 31536000 seconds in a year!\n"
          ]
        }
      ],
      "source": [
        "# Constants\n",
        "DAYS_PER_YEAR = 365\n",
        "HOURS_PER_DAY = 24\n",
        "MINUTES_PER_HOUR = 60\n",
        "SECONDS_PER_MINUTE = 60\n",
        "\n",
        "def main():\n",
        "    # Calculation using constants\n",
        "    seconds_in_year = DAYS_PER_YEAR * HOURS_PER_DAY * MINUTES_PER_HOUR * SECONDS_PER_MINUTE\n",
        "\n",
        "    # Display the result\n",
        "    print(\"There are\", seconds_in_year, \"seconds in a year!\")\n",
        "\n",
        "# Required to run the main function\n",
        "if __name__ == '__main__':\n",
        "    main()"
      ]
    },
    {
      "cell_type": "code",
      "source": [],
      "metadata": {
        "id": "MeYy6YHI4Bj1"
      },
      "execution_count": null,
      "outputs": []
    }
  ]
}