{
  "nbformat": 4,
  "nbformat_minor": 0,
  "metadata": {
    "colab": {
      "provenance": [],
      "authorship_tag": "ABX9TyP0utpVNz+zbD2jXEXVU/xV",
      "include_colab_link": true
    },
    "kernelspec": {
      "name": "python3",
      "display_name": "Python 3"
    },
    "language_info": {
      "name": "python"
    }
  },
  "cells": [
    {
      "cell_type": "markdown",
      "metadata": {
        "id": "view-in-github",
        "colab_type": "text"
      },
      "source": [
        "<a href=\"https://colab.research.google.com/github/mraza24/ai_python_assignment_04/blob/main/homework_projects%20/03_if_statements/04_tall_enough_to_ride.ipynb\" target=\"_parent\"><img src=\"https://colab.research.google.com/assets/colab-badge.svg\" alt=\"Open In Colab\"/></a>"
      ]
    },
    {
      "cell_type": "code",
      "execution_count": null,
      "metadata": {
        "colab": {
          "base_uri": "https://localhost:8080/"
        },
        "id": "52bPHVnxNA3t",
        "outputId": "5cb47422-6630-4c82-e2d1-2930ea8c560a"
      },
      "outputs": [
        {
          "name": "stdout",
          "output_type": "stream",
          "text": [
            "How tall are you? 100\n",
            "You're tall enough to ride!\n",
            "How tall are you? 40\n",
            "You're not tall enough to ride, but maybe next year!\n",
            "How tall are you? \n"
          ]
        }
      ],
      "source": [
        "MINIMUM_HEIGHT = 50  # arbitrary units :)\n",
        "\n",
        "def tall_enough_extension():\n",
        "    while True:\n",
        "        # Ask the user how tall they are.\n",
        "        height_input = input(\"How tall are you? \")\n",
        "\n",
        "        # If the user presses Enter without typing anything, break out of the loop.\n",
        "        if height_input == \"\":\n",
        "            break\n",
        "\n",
        "        # Convert the height to a float.\n",
        "        height = float(height_input)\n",
        "\n",
        "        # Check if the user is tall enough.\n",
        "        if height >= MINIMUM_HEIGHT:\n",
        "            print(\"You're tall enough to ride!\")\n",
        "        else:\n",
        "            print(\"You're not tall enough to ride, but maybe next year!\")\n",
        "\n",
        "def main():\n",
        "    tall_enough_extension()\n",
        "\n",
        "# This line is required to run the function when the file is executed.\n",
        "if __name__ == '__main__':\n",
        "    main()\n"
      ]
    },
    {
      "cell_type": "code",
      "source": [],
      "metadata": {
        "id": "D2HJsdQeNHxx"
      },
      "execution_count": null,
      "outputs": []
    }
  ]
}