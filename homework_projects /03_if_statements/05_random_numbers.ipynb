{
  "nbformat": 4,
  "nbformat_minor": 0,
  "metadata": {
    "colab": {
      "provenance": [],
      "authorship_tag": "ABX9TyPpQmorxHuOTsj6xVeg04Ay",
      "include_colab_link": true
    },
    "kernelspec": {
      "name": "python3",
      "display_name": "Python 3"
    },
    "language_info": {
      "name": "python"
    }
  },
  "cells": [
    {
      "cell_type": "markdown",
      "metadata": {
        "id": "view-in-github",
        "colab_type": "text"
      },
      "source": [
        "<a href=\"https://colab.research.google.com/github/mraza24/ai_python_assignment_04/blob/main/homework_projects%20/03_if_statements/05_random_numbers.ipynb\" target=\"_parent\"><img src=\"https://colab.research.google.com/assets/colab-badge.svg\" alt=\"Open In Colab\"/></a>"
      ]
    },
    {
      "cell_type": "code",
      "execution_count": null,
      "metadata": {
        "colab": {
          "base_uri": "https://localhost:8080/"
        },
        "id": "Kln-YYjnRuab",
        "outputId": "30c454f0-966c-4487-988d-36fdb5821992"
      },
      "outputs": [
        {
          "output_type": "stream",
          "name": "stdout",
          "text": [
            "73 71 25 78 20 13 60 14 36 53\n"
          ]
        }
      ],
      "source": [
        "import random\n",
        "\n",
        "N_NUMBERS = 10  # The number of random numbers to generate\n",
        "MIN_VALUE = 1    # The minimum value in the range (inclusive)\n",
        "MAX_VALUE = 100  # The maximum value in the range (inclusive)\n",
        "\n",
        "def main():\n",
        "    # Generate 10 random numbers between 1 and 100\n",
        "    random_numbers = [random.randint(MIN_VALUE, MAX_VALUE) for _ in range(N_NUMBERS)]\n",
        "\n",
        "    # Print the random numbers\n",
        "    print(*random_numbers)  # This will print the numbers separated by a space\n",
        "\n",
        "# Run the program\n",
        "if __name__ == '__main__':\n",
        "    main()\n"
      ]
    },
    {
      "cell_type": "code",
      "source": [],
      "metadata": {
        "id": "MgbkwotTSREm"
      },
      "execution_count": null,
      "outputs": []
    }
  ]
}