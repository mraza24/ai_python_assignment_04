{
  "nbformat": 4,
  "nbformat_minor": 0,
  "metadata": {
    "colab": {
      "provenance": [],
      "authorship_tag": "ABX9TyPPtpC/oVSnh4gIHUOBJ9fy",
      "include_colab_link": true
    },
    "kernelspec": {
      "name": "python3",
      "display_name": "Python 3"
    },
    "language_info": {
      "name": "python"
    }
  },
  "cells": [
    {
      "cell_type": "markdown",
      "metadata": {
        "id": "view-in-github",
        "colab_type": "text"
      },
      "source": [
        "<a href=\"https://colab.research.google.com/github/mraza24/ai_python_assignment_04/blob/main/homework_projects%20/07_information_flow/01_greetings.ipynb\" target=\"_parent\"><img src=\"https://colab.research.google.com/assets/colab-badge.svg\" alt=\"Open In Colab\"/></a>"
      ]
    },
    {
      "cell_type": "code",
      "execution_count": null,
      "metadata": {
        "colab": {
          "base_uri": "https://localhost:8080/"
        },
        "id": "sVVy_Szroc9Q",
        "outputId": "18a147cf-bea3-4d26-bf75-135d15deef5f"
      },
      "outputs": [
        {
          "output_type": "stream",
          "name": "stdout",
          "text": [
            "What's your name? Ali\n",
            "Greetings Ali!\n"
          ]
        }
      ],
      "source": [
        "# Helper function diya hua hai\n",
        "def greet(name):\n",
        "    return \"Greetings \" + name + \"!\"\n",
        "\n",
        "# Main function jahan kaam karna hai\n",
        "def main():\n",
        "    # User se input lena\n",
        "    name = input(\"What's your name? \")\n",
        "\n",
        "    # greet function ko call karna aur output print karna\n",
        "    print(greet(name))\n",
        "\n",
        "# Ye zaroori line hoti hai taake program start ho\n",
        "if __name__ == '__main__':\n",
        "    main()\n"
      ]
    },
    {
      "cell_type": "code",
      "source": [],
      "metadata": {
        "id": "1D-tpTgGo5Kt"
      },
      "execution_count": null,
      "outputs": []
    }
  ]
}