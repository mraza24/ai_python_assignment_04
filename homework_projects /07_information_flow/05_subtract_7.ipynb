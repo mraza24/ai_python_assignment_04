{
  "nbformat": 4,
  "nbformat_minor": 0,
  "metadata": {
    "colab": {
      "provenance": [],
      "authorship_tag": "ABX9TyNT0ygeD9IqAVNuB/NzErr0",
      "include_colab_link": true
    },
    "kernelspec": {
      "name": "python3",
      "display_name": "Python 3"
    },
    "language_info": {
      "name": "python"
    }
  },
  "cells": [
    {
      "cell_type": "markdown",
      "metadata": {
        "id": "view-in-github",
        "colab_type": "text"
      },
      "source": [
        "<a href=\"https://colab.research.google.com/github/mraza24/ai_python_assignment_04/blob/main/homework_projects%20/07_information_flow/05_subtract_7.ipynb\" target=\"_parent\"><img src=\"https://colab.research.google.com/assets/colab-badge.svg\" alt=\"Open In Colab\"/></a>"
      ]
    },
    {
      "cell_type": "code",
      "execution_count": null,
      "metadata": {
        "colab": {
          "base_uri": "https://localhost:8080/"
        },
        "id": "Xug4qwohvBEu",
        "outputId": "14f0efdc-4d3b-4f09-8305-575c5abc19d5"
      },
      "outputs": [
        {
          "output_type": "stream",
          "name": "stdout",
          "text": [
            "This should be zero: 0\n"
          ]
        }
      ],
      "source": [
        "def subtract_seven(num):\n",
        "    \"\"\"\n",
        "    This function takes a number, subtracts 7 from it, and returns the result.\n",
        "    \"\"\"\n",
        "    num = num - 7\n",
        "    return num\n",
        "\n",
        "def main():\n",
        "    \"\"\"\n",
        "    This is the main function that calls the subtract_seven function\n",
        "    and prints the result.\n",
        "    \"\"\"\n",
        "    num = 7  # You can set this to any number you want to test\n",
        "    num = subtract_seven(num)  # Subtract 7 from the number\n",
        "    print(\"This should be zero:\", num)  # Should print: This should be zero: 0\n",
        "\n",
        "if __name__ == '__main__':\n",
        "    main()\n"
      ]
    },
    {
      "cell_type": "code",
      "source": [],
      "metadata": {
        "id": "01xR6nzSvfag"
      },
      "execution_count": null,
      "outputs": []
    }
  ]
}