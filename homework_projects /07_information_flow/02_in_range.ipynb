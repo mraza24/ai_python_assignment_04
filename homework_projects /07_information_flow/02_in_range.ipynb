{
  "nbformat": 4,
  "nbformat_minor": 0,
  "metadata": {
    "colab": {
      "provenance": [],
      "authorship_tag": "ABX9TyPDJhW+25NLG7aiivT7EKjb",
      "include_colab_link": true
    },
    "kernelspec": {
      "name": "python3",
      "display_name": "Python 3"
    },
    "language_info": {
      "name": "python"
    }
  },
  "cells": [
    {
      "cell_type": "markdown",
      "metadata": {
        "id": "view-in-github",
        "colab_type": "text"
      },
      "source": [
        "<a href=\"https://colab.research.google.com/github/mraza24/ai_python_assignment_04/blob/main/homework_projects%20/07_information_flow/02_in_range.ipynb\" target=\"_parent\"><img src=\"https://colab.research.google.com/assets/colab-badge.svg\" alt=\"Open In Colab\"/></a>"
      ]
    },
    {
      "cell_type": "code",
      "execution_count": null,
      "metadata": {
        "colab": {
          "base_uri": "https://localhost:8080/"
        },
        "id": "wCPRP3XqqCeP",
        "outputId": "19f9529d-f760-40ef-9637-d4e35d249130"
      },
      "outputs": [
        {
          "output_type": "stream",
          "name": "stdout",
          "text": [
            "Enter a number (n): 5\n",
            "Enter the low value: 2\n",
            "Enter the high value: 10\n",
            "True\n"
          ]
        }
      ],
      "source": [
        "def in_range(n, low, high):\n",
        "    \"\"\"\n",
        "    Returns True if n is between low and high, inclusive.\n",
        "    high is guaranteed to be greater than low.\n",
        "    \"\"\"\n",
        "    if n >= low and n <= high:\n",
        "        return True\n",
        "    return False\n",
        "\n",
        "def main():\n",
        "    n = int(input(\"Enter a number (n): \"))\n",
        "    low = int(input(\"Enter the low value: \"))\n",
        "    high = int(input(\"Enter the high value: \"))\n",
        "\n",
        "    result = in_range(n, low, high)\n",
        "    print(result)\n",
        "\n",
        "if __name__ == '__main__':\n",
        "    main()\n"
      ]
    },
    {
      "cell_type": "code",
      "source": [],
      "metadata": {
        "id": "tlYP8P-Tqii4"
      },
      "execution_count": null,
      "outputs": []
    }
  ]
}