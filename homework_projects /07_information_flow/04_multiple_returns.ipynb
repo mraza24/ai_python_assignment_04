{
  "nbformat": 4,
  "nbformat_minor": 0,
  "metadata": {
    "colab": {
      "provenance": [],
      "authorship_tag": "ABX9TyP1KbFJoyYd4Y0S2ADMFPyy",
      "include_colab_link": true
    },
    "kernelspec": {
      "name": "python3",
      "display_name": "Python 3"
    },
    "language_info": {
      "name": "python"
    }
  },
  "cells": [
    {
      "cell_type": "markdown",
      "metadata": {
        "id": "view-in-github",
        "colab_type": "text"
      },
      "source": [
        "<a href=\"https://colab.research.google.com/github/mraza24/ai_python_assignment_04/blob/main/homework_projects%20/07_information_flow/04_multiple_returns.ipynb\" target=\"_parent\"><img src=\"https://colab.research.google.com/assets/colab-badge.svg\" alt=\"Open In Colab\"/></a>"
      ]
    },
    {
      "cell_type": "code",
      "execution_count": null,
      "metadata": {
        "colab": {
          "base_uri": "https://localhost:8080/"
        },
        "id": "g4wuYTwOtMr0",
        "outputId": "315b3a19-4fae-4cc4-c04a-53ba92bd9c81"
      },
      "outputs": [
        {
          "output_type": "stream",
          "name": "stdout",
          "text": [
            "What is your first name?: jamshed\n",
            "What is your last name?: khan\n",
            "What is your email address?: jamshed@gmail.com\n",
            "Received the following user data: ('jamshed', 'khan', 'jamshed@gmail.com')\n"
          ]
        }
      ],
      "source": [
        "def get_user_info():\n",
        "    # Asking the user for their information\n",
        "    first_name = input(\"What is your first name?: \")\n",
        "    last_name = input(\"What is your last name?: \")\n",
        "    email_address = input(\"What is your email address?: \")\n",
        "\n",
        "    # Returning the data as a tuple\n",
        "    return first_name, last_name, email_address\n",
        "\n",
        "def main():\n",
        "    # Calling get_user_info to retrieve the user data\n",
        "    user_data = get_user_info()\n",
        "\n",
        "    # Display the collected user data\n",
        "    print(\"Received the following user data:\", user_data)\n",
        "\n",
        "if __name__ == \"__main__\":\n",
        "    main()\n"
      ]
    },
    {
      "cell_type": "code",
      "source": [],
      "metadata": {
        "id": "nmnJFOXJtwh7"
      },
      "execution_count": null,
      "outputs": []
    }
  ]
}