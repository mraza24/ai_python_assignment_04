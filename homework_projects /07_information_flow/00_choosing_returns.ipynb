{
  "nbformat": 4,
  "nbformat_minor": 0,
  "metadata": {
    "colab": {
      "provenance": [],
      "authorship_tag": "ABX9TyMMroIVfKZhXHGTnTswPbET",
      "include_colab_link": true
    },
    "kernelspec": {
      "name": "python3",
      "display_name": "Python 3"
    },
    "language_info": {
      "name": "python"
    }
  },
  "cells": [
    {
      "cell_type": "markdown",
      "metadata": {
        "id": "view-in-github",
        "colab_type": "text"
      },
      "source": [
        "<a href=\"https://colab.research.google.com/github/mraza24/ai_python_assignment_04/blob/main/homework_projects%20/07_information_flow/00_choosing_returns.ipynb\" target=\"_parent\"><img src=\"https://colab.research.google.com/assets/colab-badge.svg\" alt=\"Open In Colab\"/></a>"
      ]
    },
    {
      "cell_type": "code",
      "execution_count": null,
      "metadata": {
        "colab": {
          "base_uri": "https://localhost:8080/"
        },
        "id": "gnrwRLWil99A",
        "outputId": "c00e530c-15b2-4ee6-e52f-2a23ac9c1ebf"
      },
      "outputs": [
        {
          "output_type": "stream",
          "name": "stdout",
          "text": [
            "How old is this person?: 7\n",
            "False\n"
          ]
        }
      ],
      "source": [
        "# Define the constant for the adult age\n",
        "ADULT_AGE = 18  # U.S. age definition for adulthood\n",
        "\n",
        "def is_adult(age: int):\n",
        "    \"\"\"\n",
        "    This function checks if a person is an adult by comparing their age\n",
        "    with the predefined ADULT_AGE constant.\n",
        "    \"\"\"\n",
        "    # If the person's age is greater than or equal to 18, return True\n",
        "    if age >= ADULT_AGE:\n",
        "        return True\n",
        "    # Otherwise, return False\n",
        "    return False\n",
        "\n",
        "def main():\n",
        "    # Prompt the user to input their age\n",
        "    age = int(input(\"How old is this person?: \"))\n",
        "\n",
        "    # Call the is_adult function with the user's input and print the result\n",
        "    print(is_adult(age))\n",
        "\n",
        "if __name__ == \"__main__\":\n",
        "    main()\n"
      ]
    },
    {
      "cell_type": "code",
      "source": [],
      "metadata": {
        "id": "jAS4AT0fmfcO"
      },
      "execution_count": null,
      "outputs": []
    }
  ]
}