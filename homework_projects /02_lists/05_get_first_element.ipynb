{
  "nbformat": 4,
  "nbformat_minor": 0,
  "metadata": {
    "colab": {
      "provenance": [],
      "authorship_tag": "ABX9TyOsw2IgGdSy1qE3SiOCBEq2",
      "include_colab_link": true
    },
    "kernelspec": {
      "name": "python3",
      "display_name": "Python 3"
    },
    "language_info": {
      "name": "python"
    }
  },
  "cells": [
    {
      "cell_type": "markdown",
      "metadata": {
        "id": "view-in-github",
        "colab_type": "text"
      },
      "source": [
        "<a href=\"https://colab.research.google.com/github/mraza24/ai_python_assignment_04/blob/main/homework_projects%20/02_lists/05_get_first_element.ipynb\" target=\"_parent\"><img src=\"https://colab.research.google.com/assets/colab-badge.svg\" alt=\"Open In Colab\"/></a>"
      ]
    },
    {
      "cell_type": "code",
      "execution_count": null,
      "metadata": {
        "colab": {
          "base_uri": "https://localhost:8080/"
        },
        "id": "yV4fT8vU34BV",
        "outputId": "7ba5be62-4d2d-42dc-b6fe-fd5cb4a9ef24"
      },
      "outputs": [
        {
          "output_type": "stream",
          "name": "stdout",
          "text": [
            "Please enter an element of the list or press enter to stop: apple\n",
            "Please enter an element of the list or press enter to stop: Banana\n",
            "Please enter an element of the list or press enter to stop: Orange\n",
            "Please enter an element of the list or press enter to stop: \n",
            "apple\n"
          ]
        }
      ],
      "source": [
        "def get_first_element(lst):\n",
        "    \"\"\"\n",
        "    Prints the first element of the provided list.\n",
        "    \"\"\"\n",
        "    print(lst[0])  # The first element in the list is at index 0.\n",
        "\n",
        "def get_lst():\n",
        "    \"\"\"\n",
        "    Prompts the user to enter one element of the list at a time and returns the resulting list.\n",
        "    \"\"\"\n",
        "    lst = []  # Start with an empty list\n",
        "    elem = input(\"Please enter an element of the list or press enter to stop: \")\n",
        "    # Loop until the user presses enter without typing anything\n",
        "    while elem != \"\":\n",
        "        lst.append(elem)  # Add the element to the list\n",
        "        elem = input(\"Please enter an element of the list or press enter to stop: \")\n",
        "    return lst  # Return the list once the user is done\n",
        "\n",
        "def main():\n",
        "    lst = get_lst()  # Get the list from the user\n",
        "    get_first_element(lst)  # Print the first element of the list\n",
        "\n",
        "# This is the part of the code that calls the main() function\n",
        "if __name__ == '__main__':\n",
        "    main()\n"
      ]
    },
    {
      "cell_type": "code",
      "source": [],
      "metadata": {
        "id": "cvnLGECo4tES"
      },
      "execution_count": null,
      "outputs": []
    }
  ]
}