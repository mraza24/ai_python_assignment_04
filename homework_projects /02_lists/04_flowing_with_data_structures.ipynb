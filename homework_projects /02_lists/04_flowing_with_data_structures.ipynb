{
  "nbformat": 4,
  "nbformat_minor": 0,
  "metadata": {
    "colab": {
      "provenance": [],
      "authorship_tag": "ABX9TyMJ+HlAiamsW/A240TKIDr3",
      "include_colab_link": true
    },
    "kernelspec": {
      "name": "python3",
      "display_name": "Python 3"
    },
    "language_info": {
      "name": "python"
    }
  },
  "cells": [
    {
      "cell_type": "markdown",
      "metadata": {
        "id": "view-in-github",
        "colab_type": "text"
      },
      "source": [
        "<a href=\"https://colab.research.google.com/github/mraza24/ai_python_assignment_04/blob/main/homework_projects%20/02_lists/04_flowing_with_data_structures.ipynb\" target=\"_parent\"><img src=\"https://colab.research.google.com/assets/colab-badge.svg\" alt=\"Open In Colab\"/></a>"
      ]
    },
    {
      "cell_type": "code",
      "execution_count": null,
      "metadata": {
        "colab": {
          "base_uri": "https://localhost:8080/"
        },
        "id": "5H-ZoMAEz_Mn",
        "outputId": "2a7ce14c-9421-46c7-f391-54aeed9d0d95"
      },
      "outputs": [
        {
          "output_type": "stream",
          "name": "stdout",
          "text": [
            "Enter a message to copy: Hello world!\n",
            "List before: []\n",
            "List after: ['Hello world!', 'Hello world!', 'Hello world!']\n"
          ]
        }
      ],
      "source": [
        "def add_three_copies(my_list, data):\n",
        "    # Add the data to the list 3 times\n",
        "    for i in range(3):\n",
        "        my_list.append(data)\n",
        "\n",
        "def main():\n",
        "    # Get a message from the user\n",
        "    message = input(\"Enter a message to copy: \")\n",
        "\n",
        "    # Create an empty list\n",
        "    my_list = []\n",
        "\n",
        "    # Print the list before calling the function\n",
        "    print(\"List before:\", my_list)\n",
        "\n",
        "    # Call the function to add the message 3 times to the list\n",
        "    add_three_copies(my_list, message)\n",
        "\n",
        "    # Print the list after the function call\n",
        "    print(\"List after:\", my_list)\n",
        "\n",
        "# This is the entry point of the program\n",
        "if __name__ == \"__main__\":\n",
        "    main()"
      ]
    },
    {
      "cell_type": "code",
      "source": [],
      "metadata": {
        "id": "jrhb9p1Q0DDE"
      },
      "execution_count": null,
      "outputs": []
    }
  ]
}