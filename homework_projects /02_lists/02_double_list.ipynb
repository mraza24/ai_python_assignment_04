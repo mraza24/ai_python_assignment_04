{
  "nbformat": 4,
  "nbformat_minor": 0,
  "metadata": {
    "colab": {
      "provenance": [],
      "authorship_tag": "ABX9TyO4nQgLDFhlfscg+m4CV8o4",
      "include_colab_link": true
    },
    "kernelspec": {
      "name": "python3",
      "display_name": "Python 3"
    },
    "language_info": {
      "name": "python"
    }
  },
  "cells": [
    {
      "cell_type": "markdown",
      "metadata": {
        "id": "view-in-github",
        "colab_type": "text"
      },
      "source": [
        "<a href=\"https://colab.research.google.com/github/mraza24/ai_python_assignment_04/blob/main/homework_projects%20/02_lists/02_double_list.ipynb\" target=\"_parent\"><img src=\"https://colab.research.google.com/assets/colab-badge.svg\" alt=\"Open In Colab\"/></a>"
      ]
    },
    {
      "cell_type": "code",
      "execution_count": null,
      "metadata": {
        "colab": {
          "base_uri": "https://localhost:8080/"
        },
        "id": "aFd4PiK9mh4R",
        "outputId": "dffafea4-ccba-4713-94eb-3833ab6436b1"
      },
      "outputs": [
        {
          "output_type": "stream",
          "name": "stdout",
          "text": [
            "Doubled list: [2, 4, 6, 8]\n"
          ]
        }
      ],
      "source": [
        "def main():\n",
        "    # Original list of numbers\n",
        "    numbers = [1, 2, 3, 4]\n",
        "\n",
        "    # Loop through each index and double the value\n",
        "    for i in range(len(numbers)):\n",
        "        numbers[i] = numbers[i] * 2\n",
        "\n",
        "    # Print the updated list\n",
        "    print(\"Doubled list:\", numbers)\n",
        "\n",
        "\n",
        "# This line calls the main function when the script is run\n",
        "if __name__ == '__main__':\n",
        "    main()"
      ]
    },
    {
      "cell_type": "code",
      "source": [],
      "metadata": {
        "id": "ZPXS6adimzpf"
      },
      "execution_count": null,
      "outputs": []
    }
  ]
}