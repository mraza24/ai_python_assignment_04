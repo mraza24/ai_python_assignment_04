{
  "nbformat": 4,
  "nbformat_minor": 0,
  "metadata": {
    "colab": {
      "provenance": [],
      "authorship_tag": "ABX9TyMSCfe+5XfXGAR39jup6t5+",
      "include_colab_link": true
    },
    "kernelspec": {
      "name": "python3",
      "display_name": "Python 3"
    },
    "language_info": {
      "name": "python"
    }
  },
  "cells": [
    {
      "cell_type": "markdown",
      "metadata": {
        "id": "view-in-github",
        "colab_type": "text"
      },
      "source": [
        "<a href=\"https://colab.research.google.com/github/mraza24/ai_python_assignment_04/blob/main/homework_projects%20/02_lists/07_get_list.ipynb\" target=\"_parent\"><img src=\"https://colab.research.google.com/assets/colab-badge.svg\" alt=\"Open In Colab\"/></a>"
      ]
    },
    {
      "cell_type": "code",
      "execution_count": null,
      "metadata": {
        "colab": {
          "base_uri": "https://localhost:8080/"
        },
        "id": "u5-_1RWJ95gQ",
        "outputId": "c62fec44-e410-4d50-c482-4b5830dbd40b"
      },
      "outputs": [
        {
          "output_type": "stream",
          "name": "stdout",
          "text": [
            "Enter a value: 1\n",
            "Enter a value: 2\n",
            "Enter a value: 3\n",
            "Enter a value: 4\n",
            "Enter a value: \n",
            "Here's the list: ['1', '2', '3', '4']\n"
          ]
        }
      ],
      "source": [
        "def main():\n",
        "    lst = []  # Create an empty list to store the values entered by the user\n",
        "\n",
        "    val = input(\"Enter a value: \")  # Ask for the first value\n",
        "\n",
        "    while val:  # Keep going as long as the user doesn't just press enter\n",
        "        lst.append(val)  # Add the input to the list\n",
        "        val = input(\"Enter a value: \")  # Ask for the next input\n",
        "\n",
        "    print(\"Here's the list:\", lst)  # Show the final list after user is done\n",
        "\n",
        "\n",
        "# This line ensures the main function runs when you execute the file\n",
        "if __name__ == '__main__':\n",
        "    main()"
      ]
    },
    {
      "cell_type": "code",
      "source": [],
      "metadata": {
        "id": "dFBNmSL0-zUn"
      },
      "execution_count": null,
      "outputs": []
    }
  ]
}