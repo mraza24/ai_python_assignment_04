{
  "nbformat": 4,
  "nbformat_minor": 0,
  "metadata": {
    "colab": {
      "provenance": [],
      "authorship_tag": "ABX9TyNJyHNSDklo9TGNSJrMGh7l",
      "include_colab_link": true
    },
    "kernelspec": {
      "name": "python3",
      "display_name": "Python 3"
    },
    "language_info": {
      "name": "python"
    }
  },
  "cells": [
    {
      "cell_type": "markdown",
      "metadata": {
        "id": "view-in-github",
        "colab_type": "text"
      },
      "source": [
        "<a href=\"https://colab.research.google.com/github/mraza24/ai_python_assignment_04/blob/main/homework_projects%20/02_lists/06_get_last_element.ipynb\" target=\"_parent\"><img src=\"https://colab.research.google.com/assets/colab-badge.svg\" alt=\"Open In Colab\"/></a>"
      ]
    },
    {
      "cell_type": "code",
      "execution_count": null,
      "metadata": {
        "colab": {
          "base_uri": "https://localhost:8080/"
        },
        "id": "B2b_3N8I6pc0",
        "outputId": "308a9320-1d22-443c-c6cb-8c41e8302036"
      },
      "outputs": [
        {
          "output_type": "stream",
          "name": "stdout",
          "text": [
            "Please enter an element of the list or press enter to stop: apple\n",
            "Please enter an element of the list or press enter to stop: banana\n",
            "Please enter an element of the list or press enter to stop: orange\n",
            "Please enter an element of the list or press enter to stop: \n",
            "orange\n"
          ]
        }
      ],
      "source": [
        "def get_last_element(lst):\n",
        "    \"\"\"\n",
        "    Prints the last element of the provided list.\n",
        "    \"\"\"\n",
        "    print(lst[-1])  # This directly gives the last element of the list\n",
        "\n",
        "def get_lst():\n",
        "    \"\"\"\n",
        "    Prompts the user to enter one element of the list at a time and returns the resulting list.\n",
        "    \"\"\"\n",
        "    lst = []  # Initialize an empty list\n",
        "    elem = input(\"Please enter an element of the list or press enter to stop: \")  # First input\n",
        "    while elem != \"\":  # Loop until the user presses enter without typing anything\n",
        "        lst.append(elem)  # Add the element to the list\n",
        "        elem = input(\"Please enter an element of the list or press enter to stop: \")  # Ask again\n",
        "    return lst  # Return the complete list\n",
        "\n",
        "def main():\n",
        "    lst = get_lst()  # Get the list from the user\n",
        "    get_last_element(lst)  # Print the last element of the list\n",
        "\n",
        "# This line is necessary to run the program\n",
        "if __name__ == '__main__':\n",
        "    main()"
      ]
    },
    {
      "cell_type": "code",
      "source": [],
      "metadata": {
        "id": "gX5YOctv7kvQ"
      },
      "execution_count": null,
      "outputs": []
    }
  ]
}