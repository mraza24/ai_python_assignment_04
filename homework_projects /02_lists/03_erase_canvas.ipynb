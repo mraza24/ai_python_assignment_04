{
  "nbformat": 4,
  "nbformat_minor": 0,
  "metadata": {
    "colab": {
      "provenance": [],
      "authorship_tag": "ABX9TyPrASCWhN3TVVLmoX7kz6bw",
      "include_colab_link": true
    },
    "kernelspec": {
      "name": "python3",
      "display_name": "Python 3"
    },
    "language_info": {
      "name": "python"
    }
  },
  "cells": [
    {
      "cell_type": "markdown",
      "metadata": {
        "id": "view-in-github",
        "colab_type": "text"
      },
      "source": [
        "<a href=\"https://colab.research.google.com/github/mraza24/ai_python_assignment_04/blob/main/homework_projects%20/02_lists/03_erase_canvas.ipynb\" target=\"_parent\"><img src=\"https://colab.research.google.com/assets/colab-badge.svg\" alt=\"Open In Colab\"/></a>"
      ]
    },
    {
      "cell_type": "code",
      "execution_count": null,
      "metadata": {
        "id": "h5xc-O7mySS1"
      },
      "outputs": [],
      "source": [
        "from graphics import Canvas\n",
        "import time\n",
        "\n",
        "CANVAS_WIDTH : int = 400  # Canvas ki width\n",
        "CANVAS_HEIGHT : int = 400  # Canvas ki height\n",
        "\n",
        "CELL_SIZE : int = 40  # Har cell ka size\n",
        "ERASER_SIZE : int = 20  # Eraser ka size\n",
        "\n",
        "def erase_objects(canvas, eraser):\n",
        "    \"\"\"Erase objects in contact with the eraser\"\"\"\n",
        "    # Get mouse info to help us know which cells to delete\n",
        "    mouse_x = canvas.get_mouse_x()  # Mouse ka X position\n",
        "    mouse_y = canvas.get_mouse_y()  # Mouse ka Y position\n",
        "\n",
        "    # Eraser ki location calculate karna\n",
        "    left_x = mouse_x\n",
        "    top_y = mouse_y\n",
        "    right_x = left_x + ERASER_SIZE  # Right edge of the eraser\n",
        "    bottom_y = top_y + ERASER_SIZE  # Bottom edge of the eraser\n",
        "\n",
        "    # Find objects overlapping with the eraser\n",
        "    overlapping_objects = canvas.find_overlapping(left_x, top_y, right_x, bottom_y)\n",
        "\n",
        "    # Jo objects overlap karte hain unhe white color dena\n",
        "    for overlapping_object in overlapping_objects:\n",
        "        if overlapping_object != eraser:  # Agar yeh eraser khud nahi hai\n",
        "            canvas.set_color(overlapping_object, 'white')\n",
        "\n",
        "def main():\n",
        "    # Canvas create karna\n",
        "    canvas = Canvas(CANVAS_WIDTH, CANVAS_HEIGHT)\n",
        "\n",
        "    num_rows = CANVAS_HEIGHT // CELL_SIZE  # Rows ka number\n",
        "    num_cols = CANVAS_WIDTH // CELL_SIZE   # Columns ka number\n",
        "\n",
        "    # Grid of cells create karna\n",
        "    for row in range(num_rows):\n",
        "        for col in range(num_cols):\n",
        "            left_x = col * CELL_SIZE\n",
        "            top_y = row * CELL_SIZE\n",
        "            right_x = left_x + CELL_SIZE  # Right boundary of the cell\n",
        "            bottom_y = top_y + CELL_SIZE  # Bottom boundary of the cell\n",
        "\n",
        "            # Ek cell banana\n",
        "            cell = canvas.create_rectangle(left_x, top_y, right_x, bottom_y, 'blue')\n",
        "\n",
        "    canvas.wait_for_click()  # User ke click ka wait karna\n",
        "\n",
        "    last_click_x, last_click_y = canvas.get_last_click()  # Eraser ka initial position\n",
        "\n",
        "    # Eraser create karna\n",
        "    eraser = canvas.create_rectangle(\n",
        "        last_click_x,\n",
        "        last_click_y,\n",
        "        last_click_x + ERASER_SIZE,\n",
        "        last_click_y + ERASER_SIZE,\n",
        "        'pink'\n",
        "    )\n",
        "\n",
        "    # Eraser ko move karte hue, jo cells overlap kar rahe honge unko erase karna\n",
        "    while True:\n",
        "        # Mouse ka position lene aur eraser ko move karne ka code\n",
        "        mouse_x = canvas.get_mouse_x()\n",
        "        mouse_y = canvas.get_mouse_y()\n",
        "        canvas.moveto(eraser, mouse_x, mouse_y)\n",
        "\n",
        "        # Erase karna (jo cells eraser ke contact mein hain)\n",
        "        erase_objects(canvas, eraser)\n",
        "\n",
        "        time.sleep(0.05)  # Thoda time deke screen ko update karte hain\n",
        "\n",
        "\n",
        "if __name__ == '__main__':\n",
        "    main()"
      ]
    }
  ]
}